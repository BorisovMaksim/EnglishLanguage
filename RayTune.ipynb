{
 "cells": [
  {
   "cell_type": "code",
   "execution_count": 5,
   "id": "09635542-2aef-49dd-bb50-ba62f38c58ff",
   "metadata": {},
   "outputs": [],
   "source": [
    "import pandas as pd\n",
    "import os\n",
    "os.environ['CUDA_VISIBLE_DEVICES'] = \"0\"\n",
    "\n",
    "from datasets import load_dataset, load_metric, Dataset\n",
    "from transformers import (AutoModelForSequenceClassification, AutoTokenizer,\n",
    "                          Trainer, TrainingArguments)\n",
    "\n",
    "import numpy as np\n",
    "from typing import Dict\n",
    "import torch\n",
    "import numpy as np\n",
    "\n",
    "import ray\n",
    "from ray.train.torch import TorchTrainer\n",
    "from ray.train import RunConfig, ScalingConfig, CheckpointConfig\n",
    "import ray.data\n",
    "import ray.train\n",
    "from ray.train.huggingface.transformers import prepare_trainer, RayTrainReportCallback\n",
    "from ray import tune\n",
    "from ray.tune import Tuner\n",
    "from ray.tune.schedulers.async_hyperband import ASHAScheduler\n",
    "from tqdm import tqdm\n",
    "from sklearn.metrics import f1_score\n",
    "from sklearn.model_selection import train_test_split\n",
    "from sklearn.metrics import log_loss\n"
   ]
  },
  {
   "cell_type": "markdown",
   "id": "28c0d112-aa2c-4d09-a541-e23f76bdb181",
   "metadata": {},
   "source": [
    "# Constants"
   ]
  },
  {
   "cell_type": "code",
   "execution_count": 3,
   "id": "feff819c-71c4-4a93-8d7c-0ebc86ed7ba6",
   "metadata": {},
   "outputs": [],
   "source": [
    "train_path = \"./data/train\"\n",
    "valid_path = \"./data/dev\"\n",
    "DATA_PATH = \"./data/train.csv\"\n",
    "\n",
    "\n",
    "num_labels = 3\n",
    "metric_name = \"accuracy\"\n",
    "\n",
    "model_checkpoint = \"roberta-base\"\n",
    "model_name = model_checkpoint.split(\"/\")[-1]\n",
    "validation_key = \"validation\"\n",
    "task = \"cola\"\n",
    "\n",
    "name = f\"{model_name}-finetuned-{task}\"\n",
    "actual_task = task\n",
    "batch_size = 16\n",
    "num_workers = 1\n",
    "use_gpu = True\n",
    "\n",
    "tune_epochs = 4\n"
   ]
  },
  {
   "cell_type": "markdown",
   "id": "cc2415e9-5948-4ac3-835a-da6d85929e67",
   "metadata": {},
   "source": [
    "# Read data"
   ]
  },
  {
   "cell_type": "code",
   "execution_count": 13,
   "id": "77d028ec-bfc5-43d9-83f6-05f7d67efa50",
   "metadata": {},
   "outputs": [],
   "source": [
    "df = pd.read_csv(DATA_PATH)\n",
    "\n",
    "X_train, X_test, y_train, y_test = train_test_split(df['discourse_text'], df['discourse_effectiveness'],\n",
    "                                                        stratify=df['discourse_effectiveness'],\n",
    "                                                        test_size=0.1,\n",
    "                                                        random_state=42)\n",
    "\n",
    "df_train = pd.concat([X_train, y_train], axis=1)\n",
    "df_test = pd.concat([X_test, y_test], axis=1)\n",
    "\n",
    "df_train.columns = [\"text\", 'label']\n",
    "df_test.columns = [\"text\", 'label']\n",
    "\n",
    "\n",
    "label2id = {\n",
    "    'Ineffective' : 2,\n",
    "    'Effective' : 1,\n",
    "    'Adequate' : 0\n",
    "}\n",
    "\n",
    "df_train['label'] = df_train['label'].apply(lambda x: label2id[x])\n",
    "df_test['label'] = df_test['label'].apply(lambda x: label2id[x])"
   ]
  },
  {
   "cell_type": "code",
   "execution_count": 21,
   "id": "f7acdedb-3854-44cb-8f1c-bcc5e53cf324",
   "metadata": {},
   "outputs": [],
   "source": [
    "train_dataset = Dataset.from_pandas(df_train)\n",
    "test_dataset = Dataset.from_pandas(df_test)"
   ]
  },
  {
   "cell_type": "code",
   "execution_count": 18,
   "id": "adab1ff5-2a71-46b6-a4ab-77a850a9221d",
   "metadata": {},
   "outputs": [
    {
     "data": {
      "text/plain": [
       "Dataset({\n",
       "    features: ['text', 'label', '__index_level_0__'],\n",
       "    num_rows: 33088\n",
       "})"
      ]
     },
     "execution_count": 18,
     "metadata": {},
     "output_type": "execute_result"
    }
   ],
   "source": [
    "train_dataset"
   ]
  },
  {
   "cell_type": "code",
   "execution_count": 22,
   "id": "709cc9c6-21c7-4b4b-9c78-ab2f6f11cf63",
   "metadata": {},
   "outputs": [
    {
     "data": {
      "text/plain": [
       "Dataset({\n",
       "    features: ['text', 'label', '__index_level_0__'],\n",
       "    num_rows: 3677\n",
       "})"
      ]
     },
     "execution_count": 22,
     "metadata": {},
     "output_type": "execute_result"
    }
   ],
   "source": [
    "test_dataset"
   ]
  },
  {
   "cell_type": "markdown",
   "id": "344eeda0-6ef4-4da3-b3cc-ddd5e569b4e3",
   "metadata": {},
   "source": [
    "# Ray training"
   ]
  },
  {
   "cell_type": "code",
   "execution_count": 23,
   "id": "43def4af-ad54-42e3-b07c-707f6a928598",
   "metadata": {},
   "outputs": [
    {
     "name": "stderr",
     "output_type": "stream",
     "text": [
      "2023-12-28 15:05:33,929\tINFO worker.py:1724 -- Started a local Ray instance.\n"
     ]
    },
    {
     "data": {
      "text/plain": [
       "{'train': MaterializedDataset(\n",
       "    num_blocks=1,\n",
       "    num_rows=33088,\n",
       "    schema={text: string, label: int64, __index_level_0__: int64}\n",
       " ),\n",
       " 'validation': MaterializedDataset(\n",
       "    num_blocks=1,\n",
       "    num_rows=3677,\n",
       "    schema={text: string, label: int64, __index_level_0__: int64}\n",
       " )}"
      ]
     },
     "execution_count": 23,
     "metadata": {},
     "output_type": "execute_result"
    },
    {
     "name": "stderr",
     "output_type": "stream",
     "text": [
      "\u001b[33m(raylet)\u001b[0m [2023-12-28 15:05:43,908 E 316406 316435] (raylet) file_system_monitor.cc:111: /tmp/ray/session_2023-12-28_15-05-32_192665_313140 is over 95% full, available space: 93892296704; capacity: 2161779998720. Object creation will fail if spilling is required.\n",
      "\u001b[33m(raylet)\u001b[0m [2023-12-28 15:05:53,915 E 316406 316435] (raylet) file_system_monitor.cc:111: /tmp/ray/session_2023-12-28_15-05-32_192665_313140 is over 95% full, available space: 93892272128; capacity: 2161779998720. Object creation will fail if spilling is required.\n"
     ]
    }
   ],
   "source": [
    "ray_datasets = {\n",
    "    \"train\": ray.data.from_huggingface(train_dataset),\n",
    "    \"validation\": ray.data.from_huggingface(test_dataset),\n",
    "}\n",
    "ray_datasets"
   ]
  },
  {
   "cell_type": "code",
   "execution_count": 24,
   "id": "916de13a-5785-4cbc-9ad6-4baae060e4af",
   "metadata": {},
   "outputs": [],
   "source": [
    "\n",
    "# Tokenize input sentences\n",
    "def collate_fn(examples: Dict[str, np.array]):\n",
    "    outputs =  tokenizer(list(examples['text']), truncation=True,  \n",
    "                         padding=\"longest\",\n",
    "                         return_tensors=\"pt\",)\n",
    "\n",
    "    outputs[\"labels\"] = torch.LongTensor(examples[\"label\"])\n",
    "\n",
    "    # Move all input tensors to GPU\n",
    "    for key, value in outputs.items():\n",
    "        outputs[key] = value.cuda()\n",
    "    return outputs"
   ]
  },
  {
   "cell_type": "code",
   "execution_count": 25,
   "id": "22908eba-e20b-42fc-821e-652ef8c8cbe4",
   "metadata": {},
   "outputs": [],
   "source": [
    "tokenizer = AutoTokenizer.from_pretrained(model_checkpoint, use_fast=True)\n",
    "\n",
    "# Calculate the maximum steps per epoch based on the number of rows in the training dataset.\n",
    "# Make sure to scale by the total number of training workers and the per device batch size.\n",
    "max_steps_per_epoch = ray_datasets[\"train\"].count() // (batch_size * num_workers)\n",
    "\n",
    "\n",
    "def train_func(config):\n",
    "    print(f\"Is CUDA available: {torch.cuda.is_available()}\")\n",
    "\n",
    "    metric = load_metric(\"glue\", actual_task)\n",
    "    tokenizer = AutoTokenizer.from_pretrained(model_checkpoint, use_fast=True)\n",
    "    \n",
    "    model = AutoModelForSequenceClassification.from_pretrained(\n",
    "        model_checkpoint, num_labels=num_labels\n",
    "    )\n",
    "\n",
    "    train_ds = ray.train.get_dataset_shard(\"train\")\n",
    "    eval_ds = ray.train.get_dataset_shard(\"eval\")\n",
    "\n",
    "    train_ds_iterable = train_ds.iter_torch_batches(\n",
    "        batch_size=batch_size, collate_fn=collate_fn\n",
    "    )\n",
    "    eval_ds_iterable = eval_ds.iter_torch_batches(\n",
    "        batch_size=batch_size, collate_fn=collate_fn\n",
    "    )\n",
    "\n",
    "    print(\"max_steps_per_epoch: \", max_steps_per_epoch)\n",
    "\n",
    "    args = TrainingArguments(\n",
    "        name,\n",
    "        evaluation_strategy=\"epoch\",\n",
    "        save_strategy=\"epoch\",\n",
    "        logging_strategy=\"epoch\",\n",
    "        per_device_train_batch_size=batch_size,\n",
    "        per_device_eval_batch_size=batch_size,\n",
    "        learning_rate=config.get(\"learning_rate\", 2e-5),\n",
    "        num_train_epochs=config.get(\"epochs\", 2),\n",
    "        weight_decay=config.get(\"weight_decay\", 0.01),\n",
    "        push_to_hub=False,\n",
    "        max_steps=max_steps_per_epoch * config.get(\"epochs\", 2),\n",
    "        disable_tqdm=True,  # declutter the output a little\n",
    "        no_cuda=not use_gpu,  # you need to explicitly set no_cuda if you want CPUs\n",
    "        report_to=\"none\",\n",
    "    )\n",
    "\n",
    "    def compute_metrics(eval_pred):\n",
    "        predictions, labels = eval_pred\n",
    "        if task != \"stsb\":\n",
    "            predictions = np.argmax(predictions, axis=1)\n",
    "        else:\n",
    "            predictions = predictions[:, 0]\n",
    "        return metric.compute(predictions=predictions, references=labels)\n",
    "\n",
    "    trainer = Trainer(\n",
    "        model,\n",
    "        args,\n",
    "        train_dataset=train_ds_iterable,\n",
    "        eval_dataset=eval_ds_iterable,\n",
    "        tokenizer=tokenizer,\n",
    "        compute_metrics=compute_metrics,\n",
    "    )\n",
    "\n",
    "    trainer.add_callback(RayTrainReportCallback())\n",
    "\n",
    "    trainer = prepare_trainer(trainer)\n",
    "\n",
    "    print(\"Starting training\")\n",
    "    trainer.train()"
   ]
  },
  {
   "cell_type": "code",
   "execution_count": 26,
   "id": "7b8487be-7608-4a50-81b4-90fe5fc8d0cd",
   "metadata": {},
   "outputs": [],
   "source": [
    "\n",
    "trainer = TorchTrainer(\n",
    "    train_func,\n",
    "    scaling_config=ScalingConfig(num_workers=num_workers, use_gpu=use_gpu),\n",
    "    datasets={\n",
    "        \"train\": ray_datasets[\"train\"],\n",
    "        \"eval\": ray_datasets[\"validation\"],\n",
    "    },\n",
    "    run_config=RunConfig(\n",
    "        checkpoint_config=CheckpointConfig(\n",
    "            num_to_keep=1,\n",
    "            checkpoint_score_attribute=\"eval_loss\",\n",
    "            checkpoint_score_order=\"min\",\n",
    "        ),\n",
    "    ),\n",
    ")"
   ]
  },
  {
   "cell_type": "code",
   "execution_count": 27,
   "id": "4327a7f2-0366-4114-9fd4-bdc43d36d9bd",
   "metadata": {},
   "outputs": [
    {
     "data": {
      "text/html": [
       "<div class=\"tuneStatus\">\n",
       "  <div style=\"display: flex;flex-direction: row\">\n",
       "    <div style=\"display: flex;flex-direction: column;\">\n",
       "      <h3>Tune Status</h3>\n",
       "      <table>\n",
       "<tbody>\n",
       "<tr><td>Current time:</td><td>2023-12-28 15:32:58</td></tr>\n",
       "<tr><td>Running for: </td><td>00:26:54.68        </td></tr>\n",
       "<tr><td>Memory:      </td><td>19.7/393.5 GiB     </td></tr>\n",
       "</tbody>\n",
       "</table>\n",
       "    </div>\n",
       "    <div class=\"vDivider\"></div>\n",
       "    <div class=\"systemInfo\">\n",
       "      <h3>System Info</h3>\n",
       "      Using FIFO scheduling algorithm.<br>Logical resource usage: 1.0/16 CPUs, 1.0/1 GPUs (0.0/1.0 accelerator_type:V100S)\n",
       "    </div>\n",
       "    \n",
       "  </div>\n",
       "  <div class=\"hDivider\"></div>\n",
       "  <div class=\"trialStatus\">\n",
       "    <h3>Trial Status</h3>\n",
       "    <table>\n",
       "<thead>\n",
       "<tr><th>Trial name              </th><th>status    </th><th>loc               </th><th style=\"text-align: right;\">  iter</th><th style=\"text-align: right;\">  total time (s)</th><th style=\"text-align: right;\">  loss</th><th style=\"text-align: right;\">  learning_rate</th><th style=\"text-align: right;\">  epoch</th></tr>\n",
       "</thead>\n",
       "<tbody>\n",
       "<tr><td>TorchTrainer_9e468_00000</td><td>TERMINATED</td><td>192.168.0.2:317617</td><td style=\"text-align: right;\">     2</td><td style=\"text-align: right;\">         1609.43</td><td style=\"text-align: right;\">0.6498</td><td style=\"text-align: right;\">              0</td><td style=\"text-align: right;\">    1.5</td></tr>\n",
       "</tbody>\n",
       "</table>\n",
       "  </div>\n",
       "</div>\n",
       "<style>\n",
       ".tuneStatus {\n",
       "  color: var(--jp-ui-font-color1);\n",
       "}\n",
       ".tuneStatus .systemInfo {\n",
       "  display: flex;\n",
       "  flex-direction: column;\n",
       "}\n",
       ".tuneStatus td {\n",
       "  white-space: nowrap;\n",
       "}\n",
       ".tuneStatus .trialStatus {\n",
       "  display: flex;\n",
       "  flex-direction: column;\n",
       "}\n",
       ".tuneStatus h3 {\n",
       "  font-weight: bold;\n",
       "}\n",
       ".tuneStatus .hDivider {\n",
       "  border-bottom-width: var(--jp-border-width);\n",
       "  border-bottom-color: var(--jp-border-color0);\n",
       "  border-bottom-style: solid;\n",
       "}\n",
       ".tuneStatus .vDivider {\n",
       "  border-left-width: var(--jp-border-width);\n",
       "  border-left-color: var(--jp-border-color0);\n",
       "  border-left-style: solid;\n",
       "  margin: 0.5em 1em 0.5em 1em;\n",
       "}\n",
       "</style>\n"
      ],
      "text/plain": [
       "<IPython.core.display.HTML object>"
      ]
     },
     "metadata": {},
     "output_type": "display_data"
    },
    {
     "name": "stderr",
     "output_type": "stream",
     "text": [
      "\u001b[33m(raylet)\u001b[0m [2023-12-28 15:06:03,921 E 316406 316435] (raylet) file_system_monitor.cc:111: /tmp/ray/session_2023-12-28_15-05-32_192665_313140 is over 95% full, available space: 93890859008; capacity: 2161779998720. Object creation will fail if spilling is required.\n",
      "\u001b[36m(TorchTrainer pid=317617)\u001b[0m Started distributed worker processes: \n",
      "\u001b[36m(TorchTrainer pid=317617)\u001b[0m - (ip=192.168.0.2, pid=317669) world_rank=0, local_rank=0, node_rank=0\n",
      "\u001b[36m(RayTrainWorker pid=317669)\u001b[0m Setting up process group for: env:// [rank=0, world_size=1]\n",
      "\u001b[36m(RayTrainWorker pid=317669)\u001b[0m /tmp/ipykernel_313140/683511016.py:11: FutureWarning: load_metric is deprecated and will be removed in the next major version of datasets. Use 'evaluate.load' instead, from the new library 🤗 Evaluate: https://huggingface.co/docs/evaluate\n",
      "\u001b[36m(SplitCoordinator pid=317723)\u001b[0m Auto configuring locality_with_output=['9426e9cf25a53c01389f879d75db2e4bd3751fd3a3bd13251baf11f1']\n"
     ]
    },
    {
     "name": "stdout",
     "output_type": "stream",
     "text": [
      "\u001b[36m(RayTrainWorker pid=317669)\u001b[0m Is CUDA available: True\n"
     ]
    },
    {
     "name": "stderr",
     "output_type": "stream",
     "text": [
      "\u001b[36m(RayTrainWorker pid=317669)\u001b[0m /home/itmo/miniconda3/envs/automl/lib/python3.9/site-packages/datasets/load.py:752: FutureWarning: The repository for glue contains custom code which must be executed to correctly load the metric. You can inspect the repository content at https://raw.githubusercontent.com/huggingface/datasets/2.16.0/metrics/glue/glue.py\n",
      "\u001b[36m(RayTrainWorker pid=317669)\u001b[0m You can avoid this message in future by passing the argument `trust_remote_code=True`.\n",
      "\u001b[36m(RayTrainWorker pid=317669)\u001b[0m Passing `trust_remote_code=True` will be mandatory to load this metric from the next major release of `datasets`.\n",
      "\u001b[36m(RayTrainWorker pid=317669)\u001b[0m   warnings.warn(\n",
      "\u001b[33m(raylet)\u001b[0m [2023-12-28 15:06:13,933 E 316406 316435] (raylet) file_system_monitor.cc:111: /tmp/ray/session_2023-12-28_15-05-32_192665_313140 is over 95% full, available space: 93890727936; capacity: 2161779998720. Object creation will fail if spilling is required.\n",
      "\u001b[36m(RayTrainWorker pid=317669)\u001b[0m Some weights of RobertaForSequenceClassification were not initialized from the model checkpoint at roberta-base and are newly initialized: ['classifier.dense.bias', 'classifier.out_proj.bias', 'classifier.out_proj.weight', 'classifier.dense.weight']\n",
      "\u001b[36m(RayTrainWorker pid=317669)\u001b[0m You should probably TRAIN this model on a down-stream task to be able to use it for predictions and inference.\n",
      "\u001b[36m(RayTrainWorker pid=317669)\u001b[0m Detected kernel version 5.4.0, which is below the recommended minimum of 5.5.0; this can cause the process to hang. It is recommended to upgrade the kernel to the minimum version or higher.\n"
     ]
    },
    {
     "name": "stdout",
     "output_type": "stream",
     "text": [
      "\u001b[36m(RayTrainWorker pid=317669)\u001b[0m max_steps_per_epoch:  2068\n",
      "\u001b[36m(RayTrainWorker pid=317669)\u001b[0m Starting training\n"
     ]
    },
    {
     "name": "stderr",
     "output_type": "stream",
     "text": [
      "\u001b[36m(RayTrainWorker pid=317669)\u001b[0m /tmp/ipykernel_313140/1795508781.py:7: UserWarning: The given NumPy array is not writable, and PyTorch does not support non-writable tensors. This means writing to this tensor will result in undefined behavior. You may want to copy the array to protect its data or make it writable before converting it to a tensor. This type of warning will be suppressed for the rest of this program. (Triggered internally at ../torch/csrc/utils/tensor_numpy.cpp:206.)\n",
      "\u001b[36m(SplitCoordinator pid=317722)\u001b[0m Executing DAG InputDataBuffer[Input] -> OutputSplitter[split(1, equal=True)]\n",
      "\u001b[36m(SplitCoordinator pid=317722)\u001b[0m Execution config: ExecutionOptions(resource_limits=ExecutionResources(cpu=None, gpu=None, object_store_memory=None), exclude_resources=ExecutionResources(cpu=1.0, gpu=1.0, object_store_memory=0.0), locality_with_output=['9426e9cf25a53c01389f879d75db2e4bd3751fd3a3bd13251baf11f1'], preserve_order=False, actor_locality_enabled=True, verbose_progress=False)\n",
      "\u001b[36m(SplitCoordinator pid=317722)\u001b[0m Tip: For detailed progress reporting, run `ray.data.DataContext.get_current().execution_options.verbose_progress = True`\n"
     ]
    },
    {
     "data": {
      "application/vnd.jupyter.widget-view+json": {
       "model_id": "",
       "version_major": 2,
       "version_minor": 0
      },
      "text/plain": [
       "(pid=317722) Running 0:   0%|          | 0/1 [00:00<?, ?it/s]"
      ]
     },
     "metadata": {},
     "output_type": "display_data"
    },
    {
     "name": "stderr",
     "output_type": "stream",
     "text": [
      "\u001b[36m(RayTrainWorker pid=317669)\u001b[0m [W reducer.cpp:1346] Warning: find_unused_parameters=True was specified in DDP constructor, but did not find any unused parameters in the forward pass. This flag results in an extra traversal of the autograd graph every iteration,  which can adversely affect performance. If your model indeed never has any unused parameters in the forward pass, consider turning this flag off. Note that this warning may be a false positive if your model has flow control causing later iterations to have unused parameters. (function operator())\n",
      "\u001b[36m(SplitCoordinator pid=317722)\u001b[0m Auto configuring locality_with_output=['9426e9cf25a53c01389f879d75db2e4bd3751fd3a3bd13251baf11f1']\n",
      "\u001b[33m(raylet)\u001b[0m [2023-12-28 15:06:23,953 E 316406 316435] (raylet) file_system_monitor.cc:111: /tmp/ray/session_2023-12-28_15-05-32_192665_313140 is over 95% full, available space: 93890703360; capacity: 2161779998720. Object creation will fail if spilling is required.\n",
      "\u001b[33m(raylet)\u001b[0m [2023-12-28 15:06:33,965 E 316406 316435] (raylet) file_system_monitor.cc:111: /tmp/ray/session_2023-12-28_15-05-32_192665_313140 is over 95% full, available space: 93890654208; capacity: 2161779998720. Object creation will fail if spilling is required.\n",
      "\u001b[33m(raylet)\u001b[0m [2023-12-28 15:06:43,974 E 316406 316435] (raylet) file_system_monitor.cc:111: /tmp/ray/session_2023-12-28_15-05-32_192665_313140 is over 95% full, available space: 93890531328; capacity: 2161779998720. Object creation will fail if spilling is required.\n",
      "\u001b[33m(raylet)\u001b[0m [2023-12-28 15:06:53,987 E 316406 316435] (raylet) file_system_monitor.cc:111: /tmp/ray/session_2023-12-28_15-05-32_192665_313140 is over 95% full, available space: 93890416640; capacity: 2161779998720. Object creation will fail if spilling is required.\n",
      "\u001b[33m(raylet)\u001b[0m [2023-12-28 15:07:03,993 E 316406 316435] (raylet) file_system_monitor.cc:111: /tmp/ray/session_2023-12-28_15-05-32_192665_313140 is over 95% full, available space: 93890400256; capacity: 2161779998720. Object creation will fail if spilling is required.\n",
      "\u001b[33m(raylet)\u001b[0m [2023-12-28 15:07:13,999 E 316406 316435] (raylet) file_system_monitor.cc:111: /tmp/ray/session_2023-12-28_15-05-32_192665_313140 is over 95% full, available space: 93890342912; capacity: 2161779998720. Object creation will fail if spilling is required.\n",
      "\u001b[33m(raylet)\u001b[0m [2023-12-28 15:07:24,005 E 316406 316435] (raylet) file_system_monitor.cc:111: /tmp/ray/session_2023-12-28_15-05-32_192665_313140 is over 95% full, available space: 93890314240; capacity: 2161779998720. Object creation will fail if spilling is required.\n",
      "\u001b[33m(raylet)\u001b[0m [2023-12-28 15:07:34,020 E 316406 316435] (raylet) file_system_monitor.cc:111: /tmp/ray/session_2023-12-28_15-05-32_192665_313140 is over 95% full, available space: 93890252800; capacity: 2161779998720. Object creation will fail if spilling is required.\n",
      "\u001b[33m(raylet)\u001b[0m [2023-12-28 15:07:44,030 E 316406 316435] (raylet) file_system_monitor.cc:111: /tmp/ray/session_2023-12-28_15-05-32_192665_313140 is over 95% full, available space: 93890129920; capacity: 2161779998720. Object creation will fail if spilling is required.\n",
      "\u001b[33m(raylet)\u001b[0m [2023-12-28 15:07:54,035 E 316406 316435] (raylet) file_system_monitor.cc:111: /tmp/ray/session_2023-12-28_15-05-32_192665_313140 is over 95% full, available space: 93890109440; capacity: 2161779998720. Object creation will fail if spilling is required.\n",
      "\u001b[33m(raylet)\u001b[0m [2023-12-28 15:08:04,041 E 316406 316435] (raylet) file_system_monitor.cc:111: /tmp/ray/session_2023-12-28_15-05-32_192665_313140 is over 95% full, available space: 93890084864; capacity: 2161779998720. Object creation will fail if spilling is required.\n",
      "\u001b[33m(raylet)\u001b[0m [2023-12-28 15:08:14,047 E 316406 316435] (raylet) file_system_monitor.cc:111: /tmp/ray/session_2023-12-28_15-05-32_192665_313140 is over 95% full, available space: 93890023424; capacity: 2161779998720. Object creation will fail if spilling is required.\n",
      "\u001b[33m(raylet)\u001b[0m [2023-12-28 15:08:24,053 E 316406 316435] (raylet) file_system_monitor.cc:111: /tmp/ray/session_2023-12-28_15-05-32_192665_313140 is over 95% full, available space: 93890002944; capacity: 2161779998720. Object creation will fail if spilling is required.\n",
      "\u001b[33m(raylet)\u001b[0m [2023-12-28 15:08:34,061 E 316406 316435] (raylet) file_system_monitor.cc:111: /tmp/ray/session_2023-12-28_15-05-32_192665_313140 is over 95% full, available space: 93889937408; capacity: 2161779998720. Object creation will fail if spilling is required.\n",
      "\u001b[33m(raylet)\u001b[0m [2023-12-28 15:08:44,067 E 316406 316435] (raylet) file_system_monitor.cc:111: /tmp/ray/session_2023-12-28_15-05-32_192665_313140 is over 95% full, available space: 93889798144; capacity: 2161779998720. Object creation will fail if spilling is required.\n",
      "\u001b[33m(raylet)\u001b[0m [2023-12-28 15:08:54,073 E 316406 316435] (raylet) file_system_monitor.cc:111: /tmp/ray/session_2023-12-28_15-05-32_192665_313140 is over 95% full, available space: 93889781760; capacity: 2161779998720. Object creation will fail if spilling is required.\n",
      "\u001b[33m(raylet)\u001b[0m [2023-12-28 15:09:04,080 E 316406 316435] (raylet) file_system_monitor.cc:111: /tmp/ray/session_2023-12-28_15-05-32_192665_313140 is over 95% full, available space: 93889765376; capacity: 2161779998720. Object creation will fail if spilling is required.\n",
      "\u001b[33m(raylet)\u001b[0m [2023-12-28 15:09:14,095 E 316406 316435] (raylet) file_system_monitor.cc:111: /tmp/ray/session_2023-12-28_15-05-32_192665_313140 is over 95% full, available space: 93889716224; capacity: 2161779998720. Object creation will fail if spilling is required.\n",
      "\u001b[33m(raylet)\u001b[0m [2023-12-28 15:09:24,101 E 316406 316435] (raylet) file_system_monitor.cc:111: /tmp/ray/session_2023-12-28_15-05-32_192665_313140 is over 95% full, available space: 93889695744; capacity: 2161779998720. Object creation will fail if spilling is required.\n",
      "\u001b[33m(raylet)\u001b[0m [2023-12-28 15:09:34,114 E 316406 316435] (raylet) file_system_monitor.cc:111: /tmp/ray/session_2023-12-28_15-05-32_192665_313140 is over 95% full, available space: 93889630208; capacity: 2161779998720. Object creation will fail if spilling is required.\n",
      "\u001b[33m(raylet)\u001b[0m [2023-12-28 15:09:44,141 E 316406 316435] (raylet) file_system_monitor.cc:111: /tmp/ray/session_2023-12-28_15-05-32_192665_313140 is over 95% full, available space: 93889495040; capacity: 2161779998720. Object creation will fail if spilling is required.\n",
      "\u001b[33m(raylet)\u001b[0m [2023-12-28 15:09:54,147 E 316406 316435] (raylet) file_system_monitor.cc:111: /tmp/ray/session_2023-12-28_15-05-32_192665_313140 is over 95% full, available space: 93889470464; capacity: 2161779998720. Object creation will fail if spilling is required.\n",
      "\u001b[33m(raylet)\u001b[0m [2023-12-28 15:10:04,154 E 316406 316435] (raylet) file_system_monitor.cc:111: /tmp/ray/session_2023-12-28_15-05-32_192665_313140 is over 95% full, available space: 93889372160; capacity: 2161779998720. Object creation will fail if spilling is required.\n",
      "\u001b[33m(raylet)\u001b[0m [2023-12-28 15:10:14,161 E 316406 316435] (raylet) file_system_monitor.cc:111: /tmp/ray/session_2023-12-28_15-05-32_192665_313140 is over 95% full, available space: 93889331200; capacity: 2161779998720. Object creation will fail if spilling is required.\n",
      "\u001b[33m(raylet)\u001b[0m [2023-12-28 15:10:24,167 E 316406 316435] (raylet) file_system_monitor.cc:111: /tmp/ray/session_2023-12-28_15-05-32_192665_313140 is over 95% full, available space: 93889314816; capacity: 2161779998720. Object creation will fail if spilling is required.\n",
      "\u001b[33m(raylet)\u001b[0m [2023-12-28 15:10:34,173 E 316406 316435] (raylet) file_system_monitor.cc:111: /tmp/ray/session_2023-12-28_15-05-32_192665_313140 is over 95% full, available space: 93889228800; capacity: 2161779998720. Object creation will fail if spilling is required.\n",
      "\u001b[33m(raylet)\u001b[0m [2023-12-28 15:10:44,179 E 316406 316435] (raylet) file_system_monitor.cc:111: /tmp/ray/session_2023-12-28_15-05-32_192665_313140 is over 95% full, available space: 93889110016; capacity: 2161779998720. Object creation will fail if spilling is required.\n",
      "\u001b[33m(raylet)\u001b[0m [2023-12-28 15:10:54,185 E 316406 316435] (raylet) file_system_monitor.cc:111: /tmp/ray/session_2023-12-28_15-05-32_192665_313140 is over 95% full, available space: 93889089536; capacity: 2161779998720. Object creation will fail if spilling is required.\n",
      "\u001b[33m(raylet)\u001b[0m [2023-12-28 15:11:04,196 E 316406 316435] (raylet) file_system_monitor.cc:111: /tmp/ray/session_2023-12-28_15-05-32_192665_313140 is over 95% full, available space: 93889056768; capacity: 2161779998720. Object creation will fail if spilling is required.\n",
      "\u001b[33m(raylet)\u001b[0m [2023-12-28 15:11:14,213 E 316406 316435] (raylet) file_system_monitor.cc:111: /tmp/ray/session_2023-12-28_15-05-32_192665_313140 is over 95% full, available space: 93889015808; capacity: 2161779998720. Object creation will fail if spilling is required.\n",
      "\u001b[33m(raylet)\u001b[0m [2023-12-28 15:11:24,220 E 316406 316435] (raylet) file_system_monitor.cc:111: /tmp/ray/session_2023-12-28_15-05-32_192665_313140 is over 95% full, available space: 93888995328; capacity: 2161779998720. Object creation will fail if spilling is required.\n",
      "\u001b[33m(raylet)\u001b[0m [2023-12-28 15:11:34,226 E 316406 316435] (raylet) file_system_monitor.cc:111: /tmp/ray/session_2023-12-28_15-05-32_192665_313140 is over 95% full, available space: 93888933888; capacity: 2161779998720. Object creation will fail if spilling is required.\n",
      "\u001b[33m(raylet)\u001b[0m [2023-12-28 15:11:44,233 E 316406 316435] (raylet) file_system_monitor.cc:111: /tmp/ray/session_2023-12-28_15-05-32_192665_313140 is over 95% full, available space: 93888786432; capacity: 2161779998720. Object creation will fail if spilling is required.\n",
      "\u001b[33m(raylet)\u001b[0m [2023-12-28 15:11:54,243 E 316406 316435] (raylet) file_system_monitor.cc:111: /tmp/ray/session_2023-12-28_15-05-32_192665_313140 is over 95% full, available space: 93888757760; capacity: 2161779998720. Object creation will fail if spilling is required.\n",
      "\u001b[33m(raylet)\u001b[0m [2023-12-28 15:12:04,253 E 316406 316435] (raylet) file_system_monitor.cc:111: /tmp/ray/session_2023-12-28_15-05-32_192665_313140 is over 95% full, available space: 93888733184; capacity: 2161779998720. Object creation will fail if spilling is required.\n",
      "\u001b[33m(raylet)\u001b[0m [2023-12-28 15:12:14,271 E 316406 316435] (raylet) file_system_monitor.cc:111: /tmp/ray/session_2023-12-28_15-05-32_192665_313140 is over 95% full, available space: 93888696320; capacity: 2161779998720. Object creation will fail if spilling is required.\n",
      "\u001b[33m(raylet)\u001b[0m [2023-12-28 15:12:24,292 E 316406 316435] (raylet) file_system_monitor.cc:111: /tmp/ray/session_2023-12-28_15-05-32_192665_313140 is over 95% full, available space: 93888675840; capacity: 2161779998720. Object creation will fail if spilling is required.\n",
      "\u001b[33m(raylet)\u001b[0m [2023-12-28 15:12:34,298 E 316406 316435] (raylet) file_system_monitor.cc:111: /tmp/ray/session_2023-12-28_15-05-32_192665_313140 is over 95% full, available space: 93888610304; capacity: 2161779998720. Object creation will fail if spilling is required.\n",
      "\u001b[33m(raylet)\u001b[0m [2023-12-28 15:12:44,304 E 316406 316435] (raylet) file_system_monitor.cc:111: /tmp/ray/session_2023-12-28_15-05-32_192665_313140 is over 95% full, available space: 93888499712; capacity: 2161779998720. Object creation will fail if spilling is required.\n",
      "\u001b[33m(raylet)\u001b[0m [2023-12-28 15:12:54,310 E 316406 316435] (raylet) file_system_monitor.cc:111: /tmp/ray/session_2023-12-28_15-05-32_192665_313140 is over 95% full, available space: 93888483328; capacity: 2161779998720. Object creation will fail if spilling is required.\n",
      "\u001b[33m(raylet)\u001b[0m [2023-12-28 15:13:04,316 E 316406 316435] (raylet) file_system_monitor.cc:111: /tmp/ray/session_2023-12-28_15-05-32_192665_313140 is over 95% full, available space: 93888442368; capacity: 2161779998720. Object creation will fail if spilling is required.\n",
      "\u001b[33m(raylet)\u001b[0m [2023-12-28 15:13:14,324 E 316406 316435] (raylet) file_system_monitor.cc:111: /tmp/ray/session_2023-12-28_15-05-32_192665_313140 is over 95% full, available space: 93888413696; capacity: 2161779998720. Object creation will fail if spilling is required.\n",
      "\u001b[33m(raylet)\u001b[0m [2023-12-28 15:13:24,334 E 316406 316435] (raylet) file_system_monitor.cc:111: /tmp/ray/session_2023-12-28_15-05-32_192665_313140 is over 95% full, available space: 93888380928; capacity: 2161779998720. Object creation will fail if spilling is required.\n",
      "\u001b[33m(raylet)\u001b[0m [2023-12-28 15:13:34,341 E 316406 316435] (raylet) file_system_monitor.cc:111: /tmp/ray/session_2023-12-28_15-05-32_192665_313140 is over 95% full, available space: 93888303104; capacity: 2161779998720. Object creation will fail if spilling is required.\n",
      "\u001b[33m(raylet)\u001b[0m [2023-12-28 15:13:44,356 E 316406 316435] (raylet) file_system_monitor.cc:111: /tmp/ray/session_2023-12-28_15-05-32_192665_313140 is over 95% full, available space: 93888184320; capacity: 2161779998720. Object creation will fail if spilling is required.\n",
      "\u001b[33m(raylet)\u001b[0m [2023-12-28 15:13:54,363 E 316406 316435] (raylet) file_system_monitor.cc:111: /tmp/ray/session_2023-12-28_15-05-32_192665_313140 is over 95% full, available space: 93888163840; capacity: 2161779998720. Object creation will fail if spilling is required.\n",
      "\u001b[33m(raylet)\u001b[0m [2023-12-28 15:14:04,368 E 316406 316435] (raylet) file_system_monitor.cc:111: /tmp/ray/session_2023-12-28_15-05-32_192665_313140 is over 95% full, available space: 93888139264; capacity: 2161779998720. Object creation will fail if spilling is required.\n",
      "\u001b[33m(raylet)\u001b[0m [2023-12-28 15:14:14,375 E 316406 316435] (raylet) file_system_monitor.cc:111: /tmp/ray/session_2023-12-28_15-05-32_192665_313140 is over 95% full, available space: 93888094208; capacity: 2161779998720. Object creation will fail if spilling is required.\n",
      "\u001b[33m(raylet)\u001b[0m [2023-12-28 15:14:24,381 E 316406 316435] (raylet) file_system_monitor.cc:111: /tmp/ray/session_2023-12-28_15-05-32_192665_313140 is over 95% full, available space: 93888073728; capacity: 2161779998720. Object creation will fail if spilling is required.\n",
      "\u001b[33m(raylet)\u001b[0m [2023-12-28 15:14:34,390 E 316406 316435] (raylet) file_system_monitor.cc:111: /tmp/ray/session_2023-12-28_15-05-32_192665_313140 is over 95% full, available space: 93887946752; capacity: 2161779998720. Object creation will fail if spilling is required.\n",
      "\u001b[33m(raylet)\u001b[0m [2023-12-28 15:14:44,396 E 316406 316435] (raylet) file_system_monitor.cc:111: /tmp/ray/session_2023-12-28_15-05-32_192665_313140 is over 95% full, available space: 93887856640; capacity: 2161779998720. Object creation will fail if spilling is required.\n",
      "\u001b[33m(raylet)\u001b[0m [2023-12-28 15:14:54,402 E 316406 316435] (raylet) file_system_monitor.cc:111: /tmp/ray/session_2023-12-28_15-05-32_192665_313140 is over 95% full, available space: 93887819776; capacity: 2161779998720. Object creation will fail if spilling is required.\n",
      "\u001b[33m(raylet)\u001b[0m [2023-12-28 15:15:04,408 E 316406 316435] (raylet) file_system_monitor.cc:111: /tmp/ray/session_2023-12-28_15-05-32_192665_313140 is over 95% full, available space: 93887791104; capacity: 2161779998720. Object creation will fail if spilling is required.\n",
      "\u001b[33m(raylet)\u001b[0m [2023-12-28 15:15:14,420 E 316406 316435] (raylet) file_system_monitor.cc:111: /tmp/ray/session_2023-12-28_15-05-32_192665_313140 is over 95% full, available space: 93887758336; capacity: 2161779998720. Object creation will fail if spilling is required.\n",
      "\u001b[33m(raylet)\u001b[0m [2023-12-28 15:15:24,426 E 316406 316435] (raylet) file_system_monitor.cc:111: /tmp/ray/session_2023-12-28_15-05-32_192665_313140 is over 95% full, available space: 93887729664; capacity: 2161779998720. Object creation will fail if spilling is required.\n",
      "\u001b[33m(raylet)\u001b[0m [2023-12-28 15:15:34,433 E 316406 316435] (raylet) file_system_monitor.cc:111: /tmp/ray/session_2023-12-28_15-05-32_192665_313140 is over 95% full, available space: 93887639552; capacity: 2161779998720. Object creation will fail if spilling is required.\n",
      "\u001b[33m(raylet)\u001b[0m [2023-12-28 15:15:44,439 E 316406 316435] (raylet) file_system_monitor.cc:111: /tmp/ray/session_2023-12-28_15-05-32_192665_313140 is over 95% full, available space: 93887553536; capacity: 2161779998720. Object creation will fail if spilling is required.\n",
      "\u001b[33m(raylet)\u001b[0m [2023-12-28 15:15:54,446 E 316406 316435] (raylet) file_system_monitor.cc:111: /tmp/ray/session_2023-12-28_15-05-32_192665_313140 is over 95% full, available space: 93887537152; capacity: 2161779998720. Object creation will fail if spilling is required.\n",
      "\u001b[33m(raylet)\u001b[0m [2023-12-28 15:16:04,453 E 316406 316435] (raylet) file_system_monitor.cc:111: /tmp/ray/session_2023-12-28_15-05-32_192665_313140 is over 95% full, available space: 93887504384; capacity: 2161779998720. Object creation will fail if spilling is required.\n",
      "\u001b[33m(raylet)\u001b[0m [2023-12-28 15:16:14,460 E 316406 316435] (raylet) file_system_monitor.cc:111: /tmp/ray/session_2023-12-28_15-05-32_192665_313140 is over 95% full, available space: 93887459328; capacity: 2161779998720. Object creation will fail if spilling is required.\n",
      "\u001b[33m(raylet)\u001b[0m [2023-12-28 15:16:24,467 E 316406 316435] (raylet) file_system_monitor.cc:111: /tmp/ray/session_2023-12-28_15-05-32_192665_313140 is over 95% full, available space: 93887434752; capacity: 2161779998720. Object creation will fail if spilling is required.\n",
      "\u001b[33m(raylet)\u001b[0m [2023-12-28 15:16:34,473 E 316406 316435] (raylet) file_system_monitor.cc:111: /tmp/ray/session_2023-12-28_15-05-32_192665_313140 is over 95% full, available space: 93887299584; capacity: 2161779998720. Object creation will fail if spilling is required.\n",
      "\u001b[33m(raylet)\u001b[0m [2023-12-28 15:16:44,480 E 316406 316435] (raylet) file_system_monitor.cc:111: /tmp/ray/session_2023-12-28_15-05-32_192665_313140 is over 95% full, available space: 93887209472; capacity: 2161779998720. Object creation will fail if spilling is required.\n",
      "\u001b[33m(raylet)\u001b[0m [2023-12-28 15:16:54,486 E 316406 316435] (raylet) file_system_monitor.cc:111: /tmp/ray/session_2023-12-28_15-05-32_192665_313140 is over 95% full, available space: 93887184896; capacity: 2161779998720. Object creation will fail if spilling is required.\n",
      "\u001b[33m(raylet)\u001b[0m [2023-12-28 15:17:04,492 E 316406 316435] (raylet) file_system_monitor.cc:111: /tmp/ray/session_2023-12-28_15-05-32_192665_313140 is over 95% full, available space: 93887148032; capacity: 2161779998720. Object creation will fail if spilling is required.\n",
      "\u001b[33m(raylet)\u001b[0m [2023-12-28 15:17:14,499 E 316406 316435] (raylet) file_system_monitor.cc:111: /tmp/ray/session_2023-12-28_15-05-32_192665_313140 is over 95% full, available space: 93887115264; capacity: 2161779998720. Object creation will fail if spilling is required.\n",
      "\u001b[33m(raylet)\u001b[0m [2023-12-28 15:17:24,504 E 316406 316435] (raylet) file_system_monitor.cc:111: /tmp/ray/session_2023-12-28_15-05-32_192665_313140 is over 95% full, available space: 93887094784; capacity: 2161779998720. Object creation will fail if spilling is required.\n",
      "\u001b[33m(raylet)\u001b[0m [2023-12-28 15:17:34,510 E 316406 316435] (raylet) file_system_monitor.cc:111: /tmp/ray/session_2023-12-28_15-05-32_192665_313140 is over 95% full, available space: 93886984192; capacity: 2161779998720. Object creation will fail if spilling is required.\n",
      "\u001b[33m(raylet)\u001b[0m [2023-12-28 15:17:44,516 E 316406 316435] (raylet) file_system_monitor.cc:111: /tmp/ray/session_2023-12-28_15-05-32_192665_313140 is over 95% full, available space: 93886906368; capacity: 2161779998720. Object creation will fail if spilling is required.\n",
      "\u001b[33m(raylet)\u001b[0m [2023-12-28 15:17:54,522 E 316406 316435] (raylet) file_system_monitor.cc:111: /tmp/ray/session_2023-12-28_15-05-32_192665_313140 is over 95% full, available space: 93886889984; capacity: 2161779998720. Object creation will fail if spilling is required.\n",
      "\u001b[33m(raylet)\u001b[0m [2023-12-28 15:18:04,528 E 316406 316435] (raylet) file_system_monitor.cc:111: /tmp/ray/session_2023-12-28_15-05-32_192665_313140 is over 95% full, available space: 93886853120; capacity: 2161779998720. Object creation will fail if spilling is required.\n",
      "\u001b[33m(raylet)\u001b[0m [2023-12-28 15:18:14,537 E 316406 316435] (raylet) file_system_monitor.cc:111: /tmp/ray/session_2023-12-28_15-05-32_192665_313140 is over 95% full, available space: 93886803968; capacity: 2161779998720. Object creation will fail if spilling is required.\n",
      "\u001b[33m(raylet)\u001b[0m [2023-12-28 15:18:24,547 E 316406 316435] (raylet) file_system_monitor.cc:111: /tmp/ray/session_2023-12-28_15-05-32_192665_313140 is over 95% full, available space: 93886791680; capacity: 2161779998720. Object creation will fail if spilling is required.\n",
      "\u001b[33m(raylet)\u001b[0m [2023-12-28 15:18:34,554 E 316406 316435] (raylet) file_system_monitor.cc:111: /tmp/ray/session_2023-12-28_15-05-32_192665_313140 is over 95% full, available space: 93886623744; capacity: 2161779998720. Object creation will fail if spilling is required.\n",
      "\u001b[33m(raylet)\u001b[0m [2023-12-28 15:18:44,570 E 316406 316435] (raylet) file_system_monitor.cc:111: /tmp/ray/session_2023-12-28_15-05-32_192665_313140 is over 95% full, available space: 93886582784; capacity: 2161779998720. Object creation will fail if spilling is required.\n",
      "\u001b[33m(raylet)\u001b[0m [2023-12-28 15:18:54,584 E 316406 316435] (raylet) file_system_monitor.cc:111: /tmp/ray/session_2023-12-28_15-05-32_192665_313140 is over 95% full, available space: 93886554112; capacity: 2161779998720. Object creation will fail if spilling is required.\n",
      "\u001b[33m(raylet)\u001b[0m [2023-12-28 15:19:04,590 E 316406 316435] (raylet) file_system_monitor.cc:111: /tmp/ray/session_2023-12-28_15-05-32_192665_313140 is over 95% full, available space: 93886521344; capacity: 2161779998720. Object creation will fail if spilling is required.\n"
     ]
    },
    {
     "name": "stdout",
     "output_type": "stream",
     "text": [
      "\u001b[36m(RayTrainWorker pid=317669)\u001b[0m {'loss': 0.7725, 'learning_rate': 1e-05, 'epoch': 0.5}\n"
     ]
    },
    {
     "name": "stderr",
     "output_type": "stream",
     "text": [
      "\u001b[36m(SplitCoordinator pid=317723)\u001b[0m Executing DAG InputDataBuffer[Input] -> OutputSplitter[split(1, equal=True)]\n",
      "\u001b[36m(SplitCoordinator pid=317723)\u001b[0m Execution config: ExecutionOptions(resource_limits=ExecutionResources(cpu=None, gpu=None, object_store_memory=None), exclude_resources=ExecutionResources(cpu=1.0, gpu=1.0, object_store_memory=0.0), locality_with_output=['9426e9cf25a53c01389f879d75db2e4bd3751fd3a3bd13251baf11f1'], preserve_order=False, actor_locality_enabled=True, verbose_progress=False)\n",
      "\u001b[36m(SplitCoordinator pid=317723)\u001b[0m Tip: For detailed progress reporting, run `ray.data.DataContext.get_current().execution_options.verbose_progress = True`\n"
     ]
    },
    {
     "data": {
      "application/vnd.jupyter.widget-view+json": {
       "model_id": "",
       "version_major": 2,
       "version_minor": 0
      },
      "text/plain": [
       "(pid=317723) Running 0:   0%|          | 0/1 [00:00<?, ?it/s]"
      ]
     },
     "metadata": {},
     "output_type": "display_data"
    },
    {
     "name": "stderr",
     "output_type": "stream",
     "text": [
      "\u001b[33m(raylet)\u001b[0m [2023-12-28 15:19:14,596 E 316406 316435] (raylet) file_system_monitor.cc:111: /tmp/ray/session_2023-12-28_15-05-32_192665_313140 is over 95% full, available space: 93886447616; capacity: 2161779998720. Object creation will fail if spilling is required.\n",
      "\u001b[33m(raylet)\u001b[0m [2023-12-28 15:19:24,602 E 316406 316435] (raylet) file_system_monitor.cc:111: /tmp/ray/session_2023-12-28_15-05-32_192665_313140 is over 95% full, available space: 93886402560; capacity: 2161779998720. Object creation will fail if spilling is required.\n"
     ]
    },
    {
     "name": "stdout",
     "output_type": "stream",
     "text": [
      "\u001b[36m(RayTrainWorker pid=317669)\u001b[0m {'eval_loss': 0.7252287864685059, 'eval_matthews_correlation': 0.41824718545906114, 'eval_runtime': 27.2973, 'eval_samples_per_second': 134.702, 'eval_steps_per_second': 8.426, 'epoch': 0.5}\n"
     ]
    },
    {
     "name": "stderr",
     "output_type": "stream",
     "text": [
      "\u001b[33m(raylet)\u001b[0m [2023-12-28 15:19:34,613 E 316406 316435] (raylet) file_system_monitor.cc:111: /tmp/ray/session_2023-12-28_15-05-32_192665_313140 is over 95% full, available space: 93886210048; capacity: 2161779998720. Object creation will fail if spilling is required.\n",
      "\u001b[36m(RayTrainWorker pid=317669)\u001b[0m Checkpoint successfully created at: Checkpoint(filesystem=local, path=/home/itmo/ray_results/TorchTrainer_2023-12-28_15-06-03/TorchTrainer_9e468_00000_0_2023-12-28_15-06-03/checkpoint_000000)\n",
      "\u001b[36m(SplitCoordinator pid=317722)\u001b[0m Executing DAG InputDataBuffer[Input] -> OutputSplitter[split(1, equal=True)]\n",
      "\u001b[36m(SplitCoordinator pid=317722)\u001b[0m Execution config: ExecutionOptions(resource_limits=ExecutionResources(cpu=None, gpu=None, object_store_memory=None), exclude_resources=ExecutionResources(cpu=1.0, gpu=1.0, object_store_memory=0.0), locality_with_output=['9426e9cf25a53c01389f879d75db2e4bd3751fd3a3bd13251baf11f1'], preserve_order=False, actor_locality_enabled=True, verbose_progress=False)\n",
      "\u001b[36m(SplitCoordinator pid=317722)\u001b[0m Tip: For detailed progress reporting, run `ray.data.DataContext.get_current().execution_options.verbose_progress = True`\n"
     ]
    },
    {
     "data": {
      "application/vnd.jupyter.widget-view+json": {
       "model_id": "",
       "version_major": 2,
       "version_minor": 0
      },
      "text/plain": [
       "(pid=317722) Running 0:   0%|          | 0/1 [00:00<?, ?it/s]"
      ]
     },
     "metadata": {},
     "output_type": "display_data"
    },
    {
     "name": "stderr",
     "output_type": "stream",
     "text": [
      "\u001b[33m(raylet)\u001b[0m [2023-12-28 15:19:44,619 E 316406 316435] (raylet) file_system_monitor.cc:111: /tmp/ray/session_2023-12-28_15-05-32_192665_313140 is over 95% full, available space: 90887368704; capacity: 2161779998720. Object creation will fail if spilling is required.\n",
      "\u001b[33m(raylet)\u001b[0m [2023-12-28 15:19:54,625 E 316406 316435] (raylet) file_system_monitor.cc:111: /tmp/ray/session_2023-12-28_15-05-32_192665_313140 is over 95% full, available space: 90887352320; capacity: 2161779998720. Object creation will fail if spilling is required.\n",
      "\u001b[33m(raylet)\u001b[0m [2023-12-28 15:20:04,631 E 316406 316435] (raylet) file_system_monitor.cc:111: /tmp/ray/session_2023-12-28_15-05-32_192665_313140 is over 95% full, available space: 90887315456; capacity: 2161779998720. Object creation will fail if spilling is required.\n",
      "\u001b[33m(raylet)\u001b[0m [2023-12-28 15:20:14,637 E 316406 316435] (raylet) file_system_monitor.cc:111: /tmp/ray/session_2023-12-28_15-05-32_192665_313140 is over 95% full, available space: 90887258112; capacity: 2161779998720. Object creation will fail if spilling is required.\n",
      "\u001b[33m(raylet)\u001b[0m [2023-12-28 15:20:24,644 E 316406 316435] (raylet) file_system_monitor.cc:111: /tmp/ray/session_2023-12-28_15-05-32_192665_313140 is over 95% full, available space: 90887245824; capacity: 2161779998720. Object creation will fail if spilling is required.\n",
      "\u001b[33m(raylet)\u001b[0m [2023-12-28 15:20:34,659 E 316406 316435] (raylet) file_system_monitor.cc:111: /tmp/ray/session_2023-12-28_15-05-32_192665_313140 is over 95% full, available space: 90887041024; capacity: 2161779998720. Object creation will fail if spilling is required.\n",
      "\u001b[33m(raylet)\u001b[0m [2023-12-28 15:20:44,669 E 316406 316435] (raylet) file_system_monitor.cc:111: /tmp/ray/session_2023-12-28_15-05-32_192665_313140 is over 95% full, available space: 90887008256; capacity: 2161779998720. Object creation will fail if spilling is required.\n",
      "\u001b[33m(raylet)\u001b[0m [2023-12-28 15:20:54,675 E 316406 316435] (raylet) file_system_monitor.cc:111: /tmp/ray/session_2023-12-28_15-05-32_192665_313140 is over 95% full, available space: 90886979584; capacity: 2161779998720. Object creation will fail if spilling is required.\n",
      "\u001b[33m(raylet)\u001b[0m [2023-12-28 15:21:04,681 E 316406 316435] (raylet) file_system_monitor.cc:111: /tmp/ray/session_2023-12-28_15-05-32_192665_313140 is over 95% full, available space: 90886950912; capacity: 2161779998720. Object creation will fail if spilling is required.\n",
      "\u001b[33m(raylet)\u001b[0m [2023-12-28 15:21:14,687 E 316406 316435] (raylet) file_system_monitor.cc:111: /tmp/ray/session_2023-12-28_15-05-32_192665_313140 is over 95% full, available space: 90886909952; capacity: 2161779998720. Object creation will fail if spilling is required.\n",
      "\u001b[33m(raylet)\u001b[0m [2023-12-28 15:21:24,698 E 316406 316435] (raylet) file_system_monitor.cc:111: /tmp/ray/session_2023-12-28_15-05-32_192665_313140 is over 95% full, available space: 90886885376; capacity: 2161779998720. Object creation will fail if spilling is required.\n",
      "\u001b[33m(raylet)\u001b[0m [2023-12-28 15:21:34,739 E 316406 316435] (raylet) file_system_monitor.cc:111: /tmp/ray/session_2023-12-28_15-05-32_192665_313140 is over 95% full, available space: 90886725632; capacity: 2161779998720. Object creation will fail if spilling is required.\n",
      "\u001b[33m(raylet)\u001b[0m [2023-12-28 15:21:44,753 E 316406 316435] (raylet) file_system_monitor.cc:111: /tmp/ray/session_2023-12-28_15-05-32_192665_313140 is over 95% full, available space: 90886696960; capacity: 2161779998720. Object creation will fail if spilling is required.\n",
      "\u001b[33m(raylet)\u001b[0m [2023-12-28 15:21:54,766 E 316406 316435] (raylet) file_system_monitor.cc:111: /tmp/ray/session_2023-12-28_15-05-32_192665_313140 is over 95% full, available space: 90886680576; capacity: 2161779998720. Object creation will fail if spilling is required.\n",
      "\u001b[33m(raylet)\u001b[0m [2023-12-28 15:22:04,792 E 316406 316435] (raylet) file_system_monitor.cc:111: /tmp/ray/session_2023-12-28_15-05-32_192665_313140 is over 95% full, available space: 90886656000; capacity: 2161779998720. Object creation will fail if spilling is required.\n",
      "\u001b[33m(raylet)\u001b[0m [2023-12-28 15:22:14,799 E 316406 316435] (raylet) file_system_monitor.cc:111: /tmp/ray/session_2023-12-28_15-05-32_192665_313140 is over 95% full, available space: 90886610944; capacity: 2161779998720. Object creation will fail if spilling is required.\n",
      "\u001b[33m(raylet)\u001b[0m [2023-12-28 15:22:24,811 E 316406 316435] (raylet) file_system_monitor.cc:111: /tmp/ray/session_2023-12-28_15-05-32_192665_313140 is over 95% full, available space: 90886590464; capacity: 2161779998720. Object creation will fail if spilling is required.\n",
      "\u001b[33m(raylet)\u001b[0m [2023-12-28 15:22:34,817 E 316406 316435] (raylet) file_system_monitor.cc:111: /tmp/ray/session_2023-12-28_15-05-32_192665_313140 is over 95% full, available space: 90886410240; capacity: 2161779998720. Object creation will fail if spilling is required.\n",
      "\u001b[33m(raylet)\u001b[0m [2023-12-28 15:22:44,831 E 316406 316435] (raylet) file_system_monitor.cc:111: /tmp/ray/session_2023-12-28_15-05-32_192665_313140 is over 95% full, available space: 90886369280; capacity: 2161779998720. Object creation will fail if spilling is required.\n",
      "\u001b[33m(raylet)\u001b[0m [2023-12-28 15:22:54,837 E 316406 316435] (raylet) file_system_monitor.cc:111: /tmp/ray/session_2023-12-28_15-05-32_192665_313140 is over 95% full, available space: 90886348800; capacity: 2161779998720. Object creation will fail if spilling is required.\n",
      "\u001b[33m(raylet)\u001b[0m [2023-12-28 15:23:04,843 E 316406 316435] (raylet) file_system_monitor.cc:111: /tmp/ray/session_2023-12-28_15-05-32_192665_313140 is over 95% full, available space: 90886316032; capacity: 2161779998720. Object creation will fail if spilling is required.\n",
      "\u001b[33m(raylet)\u001b[0m [2023-12-28 15:23:14,850 E 316406 316435] (raylet) file_system_monitor.cc:111: /tmp/ray/session_2023-12-28_15-05-32_192665_313140 is over 95% full, available space: 90886275072; capacity: 2161779998720. Object creation will fail if spilling is required.\n",
      "\u001b[33m(raylet)\u001b[0m [2023-12-28 15:23:24,856 E 316406 316435] (raylet) file_system_monitor.cc:111: /tmp/ray/session_2023-12-28_15-05-32_192665_313140 is over 95% full, available space: 90886254592; capacity: 2161779998720. Object creation will fail if spilling is required.\n",
      "\u001b[33m(raylet)\u001b[0m [2023-12-28 15:23:34,863 E 316406 316435] (raylet) file_system_monitor.cc:111: /tmp/ray/session_2023-12-28_15-05-32_192665_313140 is over 95% full, available space: 90886090752; capacity: 2161779998720. Object creation will fail if spilling is required.\n",
      "\u001b[33m(raylet)\u001b[0m [2023-12-28 15:23:44,869 E 316406 316435] (raylet) file_system_monitor.cc:111: /tmp/ray/session_2023-12-28_15-05-32_192665_313140 is over 95% full, available space: 90886057984; capacity: 2161779998720. Object creation will fail if spilling is required.\n",
      "\u001b[33m(raylet)\u001b[0m [2023-12-28 15:23:54,875 E 316406 316435] (raylet) file_system_monitor.cc:111: /tmp/ray/session_2023-12-28_15-05-32_192665_313140 is over 95% full, available space: 90886041600; capacity: 2161779998720. Object creation will fail if spilling is required.\n",
      "\u001b[33m(raylet)\u001b[0m [2023-12-28 15:24:04,881 E 316406 316435] (raylet) file_system_monitor.cc:111: /tmp/ray/session_2023-12-28_15-05-32_192665_313140 is over 95% full, available space: 90886008832; capacity: 2161779998720. Object creation will fail if spilling is required.\n",
      "\u001b[33m(raylet)\u001b[0m [2023-12-28 15:24:14,887 E 316406 316435] (raylet) file_system_monitor.cc:111: /tmp/ray/session_2023-12-28_15-05-32_192665_313140 is over 95% full, available space: 90885959680; capacity: 2161779998720. Object creation will fail if spilling is required.\n",
      "\u001b[33m(raylet)\u001b[0m [2023-12-28 15:24:24,892 E 316406 316435] (raylet) file_system_monitor.cc:111: /tmp/ray/session_2023-12-28_15-05-32_192665_313140 is over 95% full, available space: 90885943296; capacity: 2161779998720. Object creation will fail if spilling is required.\n",
      "\u001b[33m(raylet)\u001b[0m [2023-12-28 15:24:34,899 E 316406 316435] (raylet) file_system_monitor.cc:111: /tmp/ray/session_2023-12-28_15-05-32_192665_313140 is over 95% full, available space: 90885746688; capacity: 2161779998720. Object creation will fail if spilling is required.\n",
      "\u001b[33m(raylet)\u001b[0m [2023-12-28 15:24:44,906 E 316406 316435] (raylet) file_system_monitor.cc:111: /tmp/ray/session_2023-12-28_15-05-32_192665_313140 is over 95% full, available space: 90885718016; capacity: 2161779998720. Object creation will fail if spilling is required.\n",
      "\u001b[33m(raylet)\u001b[0m [2023-12-28 15:24:54,939 E 316406 316435] (raylet) file_system_monitor.cc:111: /tmp/ray/session_2023-12-28_15-05-32_192665_313140 is over 95% full, available space: 90885697536; capacity: 2161779998720. Object creation will fail if spilling is required.\n",
      "\u001b[33m(raylet)\u001b[0m [2023-12-28 15:25:04,963 E 316406 316435] (raylet) file_system_monitor.cc:111: /tmp/ray/session_2023-12-28_15-05-32_192665_313140 is over 95% full, available space: 90885672960; capacity: 2161779998720. Object creation will fail if spilling is required.\n",
      "\u001b[33m(raylet)\u001b[0m [2023-12-28 15:25:14,983 E 316406 316435] (raylet) file_system_monitor.cc:111: /tmp/ray/session_2023-12-28_15-05-32_192665_313140 is over 95% full, available space: 90885627904; capacity: 2161779998720. Object creation will fail if spilling is required.\n",
      "\u001b[33m(raylet)\u001b[0m [2023-12-28 15:25:25,014 E 316406 316435] (raylet) file_system_monitor.cc:111: /tmp/ray/session_2023-12-28_15-05-32_192665_313140 is over 95% full, available space: 90885607424; capacity: 2161779998720. Object creation will fail if spilling is required.\n",
      "\u001b[33m(raylet)\u001b[0m [2023-12-28 15:25:35,031 E 316406 316435] (raylet) file_system_monitor.cc:111: /tmp/ray/session_2023-12-28_15-05-32_192665_313140 is over 95% full, available space: 90885443584; capacity: 2161779998720. Object creation will fail if spilling is required.\n",
      "\u001b[33m(raylet)\u001b[0m [2023-12-28 15:25:45,068 E 316406 316435] (raylet) file_system_monitor.cc:111: /tmp/ray/session_2023-12-28_15-05-32_192665_313140 is over 95% full, available space: 90885406720; capacity: 2161779998720. Object creation will fail if spilling is required.\n",
      "\u001b[33m(raylet)\u001b[0m [2023-12-28 15:25:55,112 E 316406 316435] (raylet) file_system_monitor.cc:111: /tmp/ray/session_2023-12-28_15-05-32_192665_313140 is over 95% full, available space: 90885382144; capacity: 2161779998720. Object creation will fail if spilling is required.\n",
      "\u001b[33m(raylet)\u001b[0m [2023-12-28 15:26:05,119 E 316406 316435] (raylet) file_system_monitor.cc:111: /tmp/ray/session_2023-12-28_15-05-32_192665_313140 is over 95% full, available space: 90885345280; capacity: 2161779998720. Object creation will fail if spilling is required.\n",
      "\u001b[33m(raylet)\u001b[0m [2023-12-28 15:26:15,125 E 316406 316435] (raylet) file_system_monitor.cc:111: /tmp/ray/session_2023-12-28_15-05-32_192665_313140 is over 95% full, available space: 90885304320; capacity: 2161779998720. Object creation will fail if spilling is required.\n",
      "\u001b[33m(raylet)\u001b[0m [2023-12-28 15:26:25,131 E 316406 316435] (raylet) file_system_monitor.cc:111: /tmp/ray/session_2023-12-28_15-05-32_192665_313140 is over 95% full, available space: 90885287936; capacity: 2161779998720. Object creation will fail if spilling is required.\n",
      "\u001b[33m(raylet)\u001b[0m [2023-12-28 15:26:35,137 E 316406 316435] (raylet) file_system_monitor.cc:111: /tmp/ray/session_2023-12-28_15-05-32_192665_313140 is over 95% full, available space: 90885115904; capacity: 2161779998720. Object creation will fail if spilling is required.\n",
      "\u001b[33m(raylet)\u001b[0m [2023-12-28 15:26:45,147 E 316406 316435] (raylet) file_system_monitor.cc:111: /tmp/ray/session_2023-12-28_15-05-32_192665_313140 is over 95% full, available space: 90885079040; capacity: 2161779998720. Object creation will fail if spilling is required.\n",
      "\u001b[33m(raylet)\u001b[0m [2023-12-28 15:26:55,154 E 316406 316435] (raylet) file_system_monitor.cc:111: /tmp/ray/session_2023-12-28_15-05-32_192665_313140 is over 95% full, available space: 90885058560; capacity: 2161779998720. Object creation will fail if spilling is required.\n",
      "\u001b[33m(raylet)\u001b[0m [2023-12-28 15:27:05,160 E 316406 316435] (raylet) file_system_monitor.cc:111: /tmp/ray/session_2023-12-28_15-05-32_192665_313140 is over 95% full, available space: 90885029888; capacity: 2161779998720. Object creation will fail if spilling is required.\n",
      "\u001b[33m(raylet)\u001b[0m [2023-12-28 15:27:15,171 E 316406 316435] (raylet) file_system_monitor.cc:111: /tmp/ray/session_2023-12-28_15-05-32_192665_313140 is over 95% full, available space: 90884976640; capacity: 2161779998720. Object creation will fail if spilling is required.\n",
      "\u001b[33m(raylet)\u001b[0m [2023-12-28 15:27:25,223 E 316406 316435] (raylet) file_system_monitor.cc:111: /tmp/ray/session_2023-12-28_15-05-32_192665_313140 is over 95% full, available space: 90884952064; capacity: 2161779998720. Object creation will fail if spilling is required.\n",
      "\u001b[33m(raylet)\u001b[0m [2023-12-28 15:27:35,231 E 316406 316435] (raylet) file_system_monitor.cc:111: /tmp/ray/session_2023-12-28_15-05-32_192665_313140 is over 95% full, available space: 90884788224; capacity: 2161779998720. Object creation will fail if spilling is required.\n",
      "\u001b[33m(raylet)\u001b[0m [2023-12-28 15:27:45,238 E 316406 316435] (raylet) file_system_monitor.cc:111: /tmp/ray/session_2023-12-28_15-05-32_192665_313140 is over 95% full, available space: 90884747264; capacity: 2161779998720. Object creation will fail if spilling is required.\n",
      "\u001b[33m(raylet)\u001b[0m [2023-12-28 15:27:55,249 E 316406 316435] (raylet) file_system_monitor.cc:111: /tmp/ray/session_2023-12-28_15-05-32_192665_313140 is over 95% full, available space: 90884726784; capacity: 2161779998720. Object creation will fail if spilling is required.\n",
      "\u001b[33m(raylet)\u001b[0m [2023-12-28 15:28:05,259 E 316406 316435] (raylet) file_system_monitor.cc:111: /tmp/ray/session_2023-12-28_15-05-32_192665_313140 is over 95% full, available space: 90884694016; capacity: 2161779998720. Object creation will fail if spilling is required.\n",
      "\u001b[33m(raylet)\u001b[0m [2023-12-28 15:28:15,266 E 316406 316435] (raylet) file_system_monitor.cc:111: /tmp/ray/session_2023-12-28_15-05-32_192665_313140 is over 95% full, available space: 90884653056; capacity: 2161779998720. Object creation will fail if spilling is required.\n",
      "\u001b[33m(raylet)\u001b[0m [2023-12-28 15:28:25,272 E 316406 316435] (raylet) file_system_monitor.cc:111: /tmp/ray/session_2023-12-28_15-05-32_192665_313140 is over 95% full, available space: 90884628480; capacity: 2161779998720. Object creation will fail if spilling is required.\n",
      "\u001b[33m(raylet)\u001b[0m [2023-12-28 15:28:35,279 E 316406 316435] (raylet) file_system_monitor.cc:111: /tmp/ray/session_2023-12-28_15-05-32_192665_313140 is over 95% full, available space: 90884456448; capacity: 2161779998720. Object creation will fail if spilling is required.\n",
      "\u001b[33m(raylet)\u001b[0m [2023-12-28 15:28:45,286 E 316406 316435] (raylet) file_system_monitor.cc:111: /tmp/ray/session_2023-12-28_15-05-32_192665_313140 is over 95% full, available space: 90884419584; capacity: 2161779998720. Object creation will fail if spilling is required.\n",
      "\u001b[33m(raylet)\u001b[0m [2023-12-28 15:28:55,292 E 316406 316435] (raylet) file_system_monitor.cc:111: /tmp/ray/session_2023-12-28_15-05-32_192665_313140 is over 95% full, available space: 90884395008; capacity: 2161779998720. Object creation will fail if spilling is required.\n",
      "\u001b[33m(raylet)\u001b[0m [2023-12-28 15:29:05,299 E 316406 316435] (raylet) file_system_monitor.cc:111: /tmp/ray/session_2023-12-28_15-05-32_192665_313140 is over 95% full, available space: 90884370432; capacity: 2161779998720. Object creation will fail if spilling is required.\n",
      "\u001b[33m(raylet)\u001b[0m [2023-12-28 15:29:15,305 E 316406 316435] (raylet) file_system_monitor.cc:111: /tmp/ray/session_2023-12-28_15-05-32_192665_313140 is over 95% full, available space: 90884321280; capacity: 2161779998720. Object creation will fail if spilling is required.\n",
      "\u001b[33m(raylet)\u001b[0m [2023-12-28 15:29:25,314 E 316406 316435] (raylet) file_system_monitor.cc:111: /tmp/ray/session_2023-12-28_15-05-32_192665_313140 is over 95% full, available space: 90884300800; capacity: 2161779998720. Object creation will fail if spilling is required.\n",
      "\u001b[33m(raylet)\u001b[0m [2023-12-28 15:29:35,327 E 316406 316435] (raylet) file_system_monitor.cc:111: /tmp/ray/session_2023-12-28_15-05-32_192665_313140 is over 95% full, available space: 90884124672; capacity: 2161779998720. Object creation will fail if spilling is required.\n",
      "\u001b[33m(raylet)\u001b[0m [2023-12-28 15:29:45,336 E 316406 316435] (raylet) file_system_monitor.cc:111: /tmp/ray/session_2023-12-28_15-05-32_192665_313140 is over 95% full, available space: 90884100096; capacity: 2161779998720. Object creation will fail if spilling is required.\n",
      "\u001b[33m(raylet)\u001b[0m [2023-12-28 15:29:55,343 E 316406 316435] (raylet) file_system_monitor.cc:111: /tmp/ray/session_2023-12-28_15-05-32_192665_313140 is over 95% full, available space: 90884071424; capacity: 2161779998720. Object creation will fail if spilling is required.\n",
      "\u001b[33m(raylet)\u001b[0m [2023-12-28 15:30:05,355 E 316406 316435] (raylet) file_system_monitor.cc:111: /tmp/ray/session_2023-12-28_15-05-32_192665_313140 is over 95% full, available space: 90884038656; capacity: 2161779998720. Object creation will fail if spilling is required.\n",
      "\u001b[33m(raylet)\u001b[0m [2023-12-28 15:30:15,364 E 316406 316435] (raylet) file_system_monitor.cc:111: /tmp/ray/session_2023-12-28_15-05-32_192665_313140 is over 95% full, available space: 90883997696; capacity: 2161779998720. Object creation will fail if spilling is required.\n",
      "\u001b[33m(raylet)\u001b[0m [2023-12-28 15:30:25,370 E 316406 316435] (raylet) file_system_monitor.cc:111: /tmp/ray/session_2023-12-28_15-05-32_192665_313140 is over 95% full, available space: 90883969024; capacity: 2161779998720. Object creation will fail if spilling is required.\n",
      "\u001b[33m(raylet)\u001b[0m [2023-12-28 15:30:35,378 E 316406 316435] (raylet) file_system_monitor.cc:111: /tmp/ray/session_2023-12-28_15-05-32_192665_313140 is over 95% full, available space: 90883788800; capacity: 2161779998720. Object creation will fail if spilling is required.\n",
      "\u001b[33m(raylet)\u001b[0m [2023-12-28 15:30:45,384 E 316406 316435] (raylet) file_system_monitor.cc:111: /tmp/ray/session_2023-12-28_15-05-32_192665_313140 is over 95% full, available space: 90883764224; capacity: 2161779998720. Object creation will fail if spilling is required.\n",
      "\u001b[33m(raylet)\u001b[0m [2023-12-28 15:30:55,390 E 316406 316435] (raylet) file_system_monitor.cc:111: /tmp/ray/session_2023-12-28_15-05-32_192665_313140 is over 95% full, available space: 90883747840; capacity: 2161779998720. Object creation will fail if spilling is required.\n",
      "\u001b[33m(raylet)\u001b[0m [2023-12-28 15:31:05,396 E 316406 316435] (raylet) file_system_monitor.cc:111: /tmp/ray/session_2023-12-28_15-05-32_192665_313140 is over 95% full, available space: 90883715072; capacity: 2161779998720. Object creation will fail if spilling is required.\n",
      "\u001b[33m(raylet)\u001b[0m [2023-12-28 15:31:15,404 E 316406 316435] (raylet) file_system_monitor.cc:111: /tmp/ray/session_2023-12-28_15-05-32_192665_313140 is over 95% full, available space: 90883678208; capacity: 2161779998720. Object creation will fail if spilling is required.\n",
      "\u001b[33m(raylet)\u001b[0m [2023-12-28 15:31:25,418 E 316406 316435] (raylet) file_system_monitor.cc:111: /tmp/ray/session_2023-12-28_15-05-32_192665_313140 is over 95% full, available space: 90883657728; capacity: 2161779998720. Object creation will fail if spilling is required.\n",
      "\u001b[33m(raylet)\u001b[0m [2023-12-28 15:31:35,425 E 316406 316435] (raylet) file_system_monitor.cc:111: /tmp/ray/session_2023-12-28_15-05-32_192665_313140 is over 95% full, available space: 90883477504; capacity: 2161779998720. Object creation will fail if spilling is required.\n",
      "\u001b[33m(raylet)\u001b[0m [2023-12-28 15:31:45,440 E 316406 316435] (raylet) file_system_monitor.cc:111: /tmp/ray/session_2023-12-28_15-05-32_192665_313140 is over 95% full, available space: 90883457024; capacity: 2161779998720. Object creation will fail if spilling is required.\n",
      "\u001b[33m(raylet)\u001b[0m [2023-12-28 15:31:55,447 E 316406 316435] (raylet) file_system_monitor.cc:111: /tmp/ray/session_2023-12-28_15-05-32_192665_313140 is over 95% full, available space: 90883436544; capacity: 2161779998720. Object creation will fail if spilling is required.\n",
      "\u001b[33m(raylet)\u001b[0m [2023-12-28 15:32:05,456 E 316406 316435] (raylet) file_system_monitor.cc:111: /tmp/ray/session_2023-12-28_15-05-32_192665_313140 is over 95% full, available space: 90883399680; capacity: 2161779998720. Object creation will fail if spilling is required.\n",
      "\u001b[33m(raylet)\u001b[0m [2023-12-28 15:32:15,473 E 316406 316435] (raylet) file_system_monitor.cc:111: /tmp/ray/session_2023-12-28_15-05-32_192665_313140 is over 95% full, available space: 90883358720; capacity: 2161779998720. Object creation will fail if spilling is required.\n"
     ]
    },
    {
     "name": "stdout",
     "output_type": "stream",
     "text": [
      "\u001b[36m(RayTrainWorker pid=317669)\u001b[0m {'loss': 0.6498, 'learning_rate': 0.0, 'epoch': 1.5}\n"
     ]
    },
    {
     "name": "stderr",
     "output_type": "stream",
     "text": [
      "\u001b[36m(SplitCoordinator pid=317723)\u001b[0m Executing DAG InputDataBuffer[Input] -> OutputSplitter[split(1, equal=True)]\n",
      "\u001b[36m(SplitCoordinator pid=317723)\u001b[0m Execution config: ExecutionOptions(resource_limits=ExecutionResources(cpu=None, gpu=None, object_store_memory=None), exclude_resources=ExecutionResources(cpu=1.0, gpu=1.0, object_store_memory=0.0), locality_with_output=['9426e9cf25a53c01389f879d75db2e4bd3751fd3a3bd13251baf11f1'], preserve_order=False, actor_locality_enabled=True, verbose_progress=False)\n",
      "\u001b[36m(SplitCoordinator pid=317723)\u001b[0m Tip: For detailed progress reporting, run `ray.data.DataContext.get_current().execution_options.verbose_progress = True`\n"
     ]
    },
    {
     "data": {
      "application/vnd.jupyter.widget-view+json": {
       "model_id": "",
       "version_major": 2,
       "version_minor": 0
      },
      "text/plain": [
       "(pid=317723) Running 0:   0%|          | 0/1 [00:00<?, ?it/s]"
      ]
     },
     "metadata": {},
     "output_type": "display_data"
    },
    {
     "name": "stderr",
     "output_type": "stream",
     "text": [
      "\u001b[33m(raylet)\u001b[0m [2023-12-28 15:32:25,480 E 316406 316435] (raylet) file_system_monitor.cc:111: /tmp/ray/session_2023-12-28_15-05-32_192665_313140 is over 95% full, available space: 90883334144; capacity: 2161779998720. Object creation will fail if spilling is required.\n",
      "\u001b[33m(raylet)\u001b[0m [2023-12-28 15:32:35,494 E 316406 316435] (raylet) file_system_monitor.cc:111: /tmp/ray/session_2023-12-28_15-05-32_192665_313140 is over 95% full, available space: 90883133440; capacity: 2161779998720. Object creation will fail if spilling is required.\n",
      "\u001b[33m(raylet)\u001b[0m [2023-12-28 15:32:45,505 E 316406 316435] (raylet) file_system_monitor.cc:111: /tmp/ray/session_2023-12-28_15-05-32_192665_313140 is over 95% full, available space: 90883072000; capacity: 2161779998720. Object creation will fail if spilling is required.\n"
     ]
    },
    {
     "name": "stdout",
     "output_type": "stream",
     "text": [
      "\u001b[36m(RayTrainWorker pid=317669)\u001b[0m {'eval_loss': 0.719370424747467, 'eval_matthews_correlation': 0.4369429976748269, 'eval_runtime': 27.3603, 'eval_samples_per_second': 134.392, 'eval_steps_per_second': 8.406, 'epoch': 1.5}\n"
     ]
    },
    {
     "name": "stderr",
     "output_type": "stream",
     "text": [
      "\u001b[33m(raylet)\u001b[0m [2023-12-28 15:32:55,511 E 316406 316435] (raylet) file_system_monitor.cc:111: /tmp/ray/session_2023-12-28_15-05-32_192665_313140 is over 95% full, available space: 88513155072; capacity: 2161779998720. Object creation will fail if spilling is required.\n",
      "\u001b[36m(RayTrainWorker pid=317669)\u001b[0m Checkpoint successfully created at: Checkpoint(filesystem=local, path=/home/itmo/ray_results/TorchTrainer_2023-12-28_15-06-03/TorchTrainer_9e468_00000_0_2023-12-28_15-06-03/checkpoint_000001)\n"
     ]
    },
    {
     "name": "stdout",
     "output_type": "stream",
     "text": [
      "\u001b[36m(RayTrainWorker pid=317669)\u001b[0m {'train_runtime': 1600.892, 'train_samples_per_second': 41.337, 'train_steps_per_second': 2.584, 'train_loss': 0.7111581769164803, 'epoch': 1.5}\n"
     ]
    },
    {
     "name": "stderr",
     "output_type": "stream",
     "text": [
      "2023-12-28 15:32:58,127\tINFO tune.py:1042 -- Total run time: 1614.70 seconds (1614.68 seconds for the tuning loop).\n",
      "\u001b[33m(raylet)\u001b[0m [2023-12-28 15:33:05,518 E 316406 316435] (raylet) file_system_monitor.cc:111: /tmp/ray/session_2023-12-28_15-05-32_192665_313140 is over 95% full, available space: 89383641088; capacity: 2161779998720. Object creation will fail if spilling is required.\n",
      "\u001b[33m(raylet)\u001b[0m [2023-12-28 15:33:15,524 E 316406 316435] (raylet) file_system_monitor.cc:111: /tmp/ray/session_2023-12-28_15-05-32_192665_313140 is over 95% full, available space: 89383624704; capacity: 2161779998720. Object creation will fail if spilling is required.\n",
      "\u001b[33m(raylet)\u001b[0m [2023-12-28 15:33:25,530 E 316406 316435] (raylet) file_system_monitor.cc:111: /tmp/ray/session_2023-12-28_15-05-32_192665_313140 is over 95% full, available space: 89383612416; capacity: 2161779998720. Object creation will fail if spilling is required.\n",
      "\u001b[33m(raylet)\u001b[0m [2023-12-28 15:33:35,536 E 316406 316435] (raylet) file_system_monitor.cc:111: /tmp/ray/session_2023-12-28_15-05-32_192665_313140 is over 95% full, available space: 89383448576; capacity: 2161779998720. Object creation will fail if spilling is required.\n",
      "\u001b[33m(raylet)\u001b[0m [2023-12-28 15:33:45,542 E 316406 316435] (raylet) file_system_monitor.cc:111: /tmp/ray/session_2023-12-28_15-05-32_192665_313140 is over 95% full, available space: 89383432192; capacity: 2161779998720. Object creation will fail if spilling is required.\n",
      "\u001b[33m(raylet)\u001b[0m [2023-12-28 15:33:55,548 E 316406 316435] (raylet) file_system_monitor.cc:111: /tmp/ray/session_2023-12-28_15-05-32_192665_313140 is over 95% full, available space: 89383432192; capacity: 2161779998720. Object creation will fail if spilling is required.\n",
      "\u001b[33m(raylet)\u001b[0m [2023-12-28 15:34:05,555 E 316406 316435] (raylet) file_system_monitor.cc:111: /tmp/ray/session_2023-12-28_15-05-32_192665_313140 is over 95% full, available space: 89383424000; capacity: 2161779998720. Object creation will fail if spilling is required.\n",
      "\u001b[33m(raylet)\u001b[0m [2023-12-28 15:34:15,562 E 316406 316435] (raylet) file_system_monitor.cc:111: /tmp/ray/session_2023-12-28_15-05-32_192665_313140 is over 95% full, available space: 89383415808; capacity: 2161779998720. Object creation will fail if spilling is required.\n",
      "\u001b[33m(raylet)\u001b[0m [2023-12-28 15:34:25,568 E 316406 316435] (raylet) file_system_monitor.cc:111: /tmp/ray/session_2023-12-28_15-05-32_192665_313140 is over 95% full, available space: 89383411712; capacity: 2161779998720. Object creation will fail if spilling is required.\n",
      "\u001b[33m(raylet)\u001b[0m [2023-12-28 15:34:35,574 E 316406 316435] (raylet) file_system_monitor.cc:111: /tmp/ray/session_2023-12-28_15-05-32_192665_313140 is over 95% full, available space: 89383251968; capacity: 2161779998720. Object creation will fail if spilling is required.\n",
      "\u001b[33m(raylet)\u001b[0m [2023-12-28 15:34:45,580 E 316406 316435] (raylet) file_system_monitor.cc:111: /tmp/ray/session_2023-12-28_15-05-32_192665_313140 is over 95% full, available space: 89383239680; capacity: 2161779998720. Object creation will fail if spilling is required.\n",
      "\u001b[33m(raylet)\u001b[0m [2023-12-28 15:34:55,586 E 316406 316435] (raylet) file_system_monitor.cc:111: /tmp/ray/session_2023-12-28_15-05-32_192665_313140 is over 95% full, available space: 89383235584; capacity: 2161779998720. Object creation will fail if spilling is required.\n",
      "\u001b[33m(raylet)\u001b[0m [2023-12-28 15:35:05,592 E 316406 316435] (raylet) file_system_monitor.cc:111: /tmp/ray/session_2023-12-28_15-05-32_192665_313140 is over 95% full, available space: 89383227392; capacity: 2161779998720. Object creation will fail if spilling is required.\n",
      "\u001b[33m(raylet)\u001b[0m [2023-12-28 15:35:15,598 E 316406 316435] (raylet) file_system_monitor.cc:111: /tmp/ray/session_2023-12-28_15-05-32_192665_313140 is over 95% full, available space: 89383215104; capacity: 2161779998720. Object creation will fail if spilling is required.\n",
      "\u001b[33m(raylet)\u001b[0m [2023-12-28 15:35:25,604 E 316406 316435] (raylet) file_system_monitor.cc:111: /tmp/ray/session_2023-12-28_15-05-32_192665_313140 is over 95% full, available space: 89383206912; capacity: 2161779998720. Object creation will fail if spilling is required.\n",
      "\u001b[33m(raylet)\u001b[0m [2023-12-28 15:35:35,610 E 316406 316435] (raylet) file_system_monitor.cc:111: /tmp/ray/session_2023-12-28_15-05-32_192665_313140 is over 95% full, available space: 89383043072; capacity: 2161779998720. Object creation will fail if spilling is required.\n",
      "\u001b[33m(raylet)\u001b[0m [2023-12-28 15:35:45,618 E 316406 316435] (raylet) file_system_monitor.cc:111: /tmp/ray/session_2023-12-28_15-05-32_192665_313140 is over 95% full, available space: 89383030784; capacity: 2161779998720. Object creation will fail if spilling is required.\n",
      "\u001b[33m(raylet)\u001b[0m [2023-12-28 15:35:55,624 E 316406 316435] (raylet) file_system_monitor.cc:111: /tmp/ray/session_2023-12-28_15-05-32_192665_313140 is over 95% full, available space: 89383022592; capacity: 2161779998720. Object creation will fail if spilling is required.\n",
      "\u001b[33m(raylet)\u001b[0m [2023-12-28 15:36:05,630 E 316406 316435] (raylet) file_system_monitor.cc:111: /tmp/ray/session_2023-12-28_15-05-32_192665_313140 is over 95% full, available space: 89383022592; capacity: 2161779998720. Object creation will fail if spilling is required.\n",
      "\u001b[33m(raylet)\u001b[0m [2023-12-28 15:36:15,636 E 316406 316435] (raylet) file_system_monitor.cc:111: /tmp/ray/session_2023-12-28_15-05-32_192665_313140 is over 95% full, available space: 89383014400; capacity: 2161779998720. Object creation will fail if spilling is required.\n",
      "\u001b[33m(raylet)\u001b[0m [2023-12-28 15:36:25,643 E 316406 316435] (raylet) file_system_monitor.cc:111: /tmp/ray/session_2023-12-28_15-05-32_192665_313140 is over 95% full, available space: 89383002112; capacity: 2161779998720. Object creation will fail if spilling is required.\n",
      "\u001b[33m(raylet)\u001b[0m [2023-12-28 15:36:35,649 E 316406 316435] (raylet) file_system_monitor.cc:111: /tmp/ray/session_2023-12-28_15-05-32_192665_313140 is over 95% full, available space: 89382834176; capacity: 2161779998720. Object creation will fail if spilling is required.\n",
      "\u001b[33m(raylet)\u001b[0m [2023-12-28 15:36:45,657 E 316406 316435] (raylet) file_system_monitor.cc:111: /tmp/ray/session_2023-12-28_15-05-32_192665_313140 is over 95% full, available space: 89382817792; capacity: 2161779998720. Object creation will fail if spilling is required.\n",
      "\u001b[33m(raylet)\u001b[0m [2023-12-28 15:36:55,664 E 316406 316435] (raylet) file_system_monitor.cc:111: /tmp/ray/session_2023-12-28_15-05-32_192665_313140 is over 95% full, available space: 89382813696; capacity: 2161779998720. Object creation will fail if spilling is required.\n",
      "\u001b[33m(raylet)\u001b[0m [2023-12-28 15:37:05,674 E 316406 316435] (raylet) file_system_monitor.cc:111: /tmp/ray/session_2023-12-28_15-05-32_192665_313140 is over 95% full, available space: 89382813696; capacity: 2161779998720. Object creation will fail if spilling is required.\n",
      "\u001b[33m(raylet)\u001b[0m [2023-12-28 15:37:15,691 E 316406 316435] (raylet) file_system_monitor.cc:111: /tmp/ray/session_2023-12-28_15-05-32_192665_313140 is over 95% full, available space: 89382809600; capacity: 2161779998720. Object creation will fail if spilling is required.\n",
      "\u001b[33m(raylet)\u001b[0m [2023-12-28 15:37:25,698 E 316406 316435] (raylet) file_system_monitor.cc:111: /tmp/ray/session_2023-12-28_15-05-32_192665_313140 is over 95% full, available space: 89382797312; capacity: 2161779998720. Object creation will fail if spilling is required.\n",
      "\u001b[33m(raylet)\u001b[0m [2023-12-28 15:37:35,706 E 316406 316435] (raylet) file_system_monitor.cc:111: /tmp/ray/session_2023-12-28_15-05-32_192665_313140 is over 95% full, available space: 89382637568; capacity: 2161779998720. Object creation will fail if spilling is required.\n",
      "\u001b[33m(raylet)\u001b[0m [2023-12-28 15:37:45,713 E 316406 316435] (raylet) file_system_monitor.cc:111: /tmp/ray/session_2023-12-28_15-05-32_192665_313140 is over 95% full, available space: 89382617088; capacity: 2161779998720. Object creation will fail if spilling is required.\n",
      "\u001b[33m(raylet)\u001b[0m [2023-12-28 15:37:55,720 E 316406 316435] (raylet) file_system_monitor.cc:111: /tmp/ray/session_2023-12-28_15-05-32_192665_313140 is over 95% full, available space: 89382608896; capacity: 2161779998720. Object creation will fail if spilling is required.\n",
      "\u001b[33m(raylet)\u001b[0m [2023-12-28 15:38:05,730 E 316406 316435] (raylet) file_system_monitor.cc:111: /tmp/ray/session_2023-12-28_15-05-32_192665_313140 is over 95% full, available space: 89382600704; capacity: 2161779998720. Object creation will fail if spilling is required.\n",
      "\u001b[33m(raylet)\u001b[0m [2023-12-28 15:38:15,736 E 316406 316435] (raylet) file_system_monitor.cc:111: /tmp/ray/session_2023-12-28_15-05-32_192665_313140 is over 95% full, available space: 89382600704; capacity: 2161779998720. Object creation will fail if spilling is required.\n",
      "\u001b[33m(raylet)\u001b[0m [2023-12-28 15:38:25,750 E 316406 316435] (raylet) file_system_monitor.cc:111: /tmp/ray/session_2023-12-28_15-05-32_192665_313140 is over 95% full, available space: 89382592512; capacity: 2161779998720. Object creation will fail if spilling is required.\n",
      "\u001b[33m(raylet)\u001b[0m [2023-12-28 15:38:35,759 E 316406 316435] (raylet) file_system_monitor.cc:111: /tmp/ray/session_2023-12-28_15-05-32_192665_313140 is over 95% full, available space: 89382428672; capacity: 2161779998720. Object creation will fail if spilling is required.\n",
      "\u001b[33m(raylet)\u001b[0m [2023-12-28 15:38:45,770 E 316406 316435] (raylet) file_system_monitor.cc:111: /tmp/ray/session_2023-12-28_15-05-32_192665_313140 is over 95% full, available space: 89382412288; capacity: 2161779998720. Object creation will fail if spilling is required.\n",
      "\u001b[33m(raylet)\u001b[0m [2023-12-28 15:38:55,791 E 316406 316435] (raylet) file_system_monitor.cc:111: /tmp/ray/session_2023-12-28_15-05-32_192665_313140 is over 95% full, available space: 89382404096; capacity: 2161779998720. Object creation will fail if spilling is required.\n",
      "\u001b[33m(raylet)\u001b[0m [2023-12-28 15:39:05,808 E 316406 316435] (raylet) file_system_monitor.cc:111: /tmp/ray/session_2023-12-28_15-05-32_192665_313140 is over 95% full, available space: 89382400000; capacity: 2161779998720. Object creation will fail if spilling is required.\n",
      "\u001b[33m(raylet)\u001b[0m [2023-12-28 15:39:15,814 E 316406 316435] (raylet) file_system_monitor.cc:111: /tmp/ray/session_2023-12-28_15-05-32_192665_313140 is over 95% full, available space: 89382391808; capacity: 2161779998720. Object creation will fail if spilling is required.\n",
      "\u001b[33m(raylet)\u001b[0m [2023-12-28 15:39:25,820 E 316406 316435] (raylet) file_system_monitor.cc:111: /tmp/ray/session_2023-12-28_15-05-32_192665_313140 is over 95% full, available space: 89382383616; capacity: 2161779998720. Object creation will fail if spilling is required.\n",
      "\u001b[33m(raylet)\u001b[0m [2023-12-28 15:39:35,826 E 316406 316435] (raylet) file_system_monitor.cc:111: /tmp/ray/session_2023-12-28_15-05-32_192665_313140 is over 95% full, available space: 89382207488; capacity: 2161779998720. Object creation will fail if spilling is required.\n",
      "\u001b[33m(raylet)\u001b[0m [2023-12-28 15:39:45,832 E 316406 316435] (raylet) file_system_monitor.cc:111: /tmp/ray/session_2023-12-28_15-05-32_192665_313140 is over 95% full, available space: 89382203392; capacity: 2161779998720. Object creation will fail if spilling is required.\n",
      "\u001b[33m(raylet)\u001b[0m [2023-12-28 15:39:55,837 E 316406 316435] (raylet) file_system_monitor.cc:111: /tmp/ray/session_2023-12-28_15-05-32_192665_313140 is over 95% full, available space: 89382191104; capacity: 2161779998720. Object creation will fail if spilling is required.\n",
      "\u001b[33m(raylet)\u001b[0m [2023-12-28 15:40:05,843 E 316406 316435] (raylet) file_system_monitor.cc:111: /tmp/ray/session_2023-12-28_15-05-32_192665_313140 is over 95% full, available space: 89382187008; capacity: 2161779998720. Object creation will fail if spilling is required.\n",
      "\u001b[33m(raylet)\u001b[0m [2023-12-28 15:40:15,849 E 316406 316435] (raylet) file_system_monitor.cc:111: /tmp/ray/session_2023-12-28_15-05-32_192665_313140 is over 95% full, available space: 89382182912; capacity: 2161779998720. Object creation will fail if spilling is required.\n",
      "\u001b[33m(raylet)\u001b[0m [2023-12-28 15:40:25,855 E 316406 316435] (raylet) file_system_monitor.cc:111: /tmp/ray/session_2023-12-28_15-05-32_192665_313140 is over 95% full, available space: 89382178816; capacity: 2161779998720. Object creation will fail if spilling is required.\n",
      "\u001b[33m(raylet)\u001b[0m [2023-12-28 15:40:35,860 E 316406 316435] (raylet) file_system_monitor.cc:111: /tmp/ray/session_2023-12-28_15-05-32_192665_313140 is over 95% full, available space: 89382023168; capacity: 2161779998720. Object creation will fail if spilling is required.\n",
      "\u001b[33m(raylet)\u001b[0m [2023-12-28 15:40:45,870 E 316406 316435] (raylet) file_system_monitor.cc:111: /tmp/ray/session_2023-12-28_15-05-32_192665_313140 is over 95% full, available space: 89381994496; capacity: 2161779998720. Object creation will fail if spilling is required.\n",
      "\u001b[33m(raylet)\u001b[0m [2023-12-28 15:40:55,877 E 316406 316435] (raylet) file_system_monitor.cc:111: /tmp/ray/session_2023-12-28_15-05-32_192665_313140 is over 95% full, available space: 89381994496; capacity: 2161779998720. Object creation will fail if spilling is required.\n",
      "\u001b[33m(raylet)\u001b[0m [2023-12-28 15:41:05,885 E 316406 316435] (raylet) file_system_monitor.cc:111: /tmp/ray/session_2023-12-28_15-05-32_192665_313140 is over 95% full, available space: 89381986304; capacity: 2161779998720. Object creation will fail if spilling is required.\n"
     ]
    }
   ],
   "source": [
    "result = trainer.fit()"
   ]
  },
  {
   "cell_type": "markdown",
   "id": "f0a50b3a-f978-45b3-ac89-9401f80954da",
   "metadata": {},
   "source": [
    "# Tuning"
   ]
  },
  {
   "cell_type": "code",
   "execution_count": 28,
   "id": "cfef6fd8-a034-428c-b696-ad71810e18a9",
   "metadata": {},
   "outputs": [
    {
     "name": "stderr",
     "output_type": "stream",
     "text": [
      "2023-12-28 15:41:11,344\tINFO tuner_internal.py:401 -- A `RunConfig` was passed to both the `Tuner` and the `TorchTrainer`. The run config passed to the `Tuner` is the one that will be used.\n"
     ]
    }
   ],
   "source": [
    "tuner = Tuner(\n",
    "    trainer,\n",
    "    param_space={\n",
    "        \"train_loop_config\": {\n",
    "            \"learning_rate\": tune.grid_search([2e-5, 2e-4, 2e-3, 2e-2]),\n",
    "            \"epochs\": tune_epochs,\n",
    "        }\n",
    "    },\n",
    "    tune_config=tune.TuneConfig(\n",
    "        metric=\"eval_loss\",\n",
    "        mode=\"min\",\n",
    "        num_samples=1,\n",
    "        scheduler=ASHAScheduler(\n",
    "            max_t=tune_epochs,\n",
    "        ),\n",
    "    ),\n",
    "    run_config=RunConfig(\n",
    "        name=\"tune_transformers\",\n",
    "        checkpoint_config=CheckpointConfig(\n",
    "            num_to_keep=1,\n",
    "            checkpoint_score_attribute=\"eval_loss\",\n",
    "            checkpoint_score_order=\"min\",\n",
    "        ),\n",
    "    ),\n",
    ")"
   ]
  },
  {
   "cell_type": "code",
   "execution_count": 29,
   "id": "978ecdb3-824a-4690-bd6b-554b449d708c",
   "metadata": {},
   "outputs": [
    {
     "name": "stderr",
     "output_type": "stream",
     "text": [
      "\u001b[33m(raylet)\u001b[0m [2023-12-28 16:57:49,765 E 316406 316435] (raylet) file_system_monitor.cc:111: /tmp/ray/session_2023-12-28_15-05-32_192665_313140 is over 95% full, available space: 72350732288; capacity: 2161779998720. Object creation will fail if spilling is required.\n",
      "\u001b[33m(raylet)\u001b[0m [2023-12-28 16:57:59,772 E 316406 316435] (raylet) file_system_monitor.cc:111: /tmp/ray/session_2023-12-28_15-05-32_192665_313140 is over 95% full, available space: 72350683136; capacity: 2161779998720. Object creation will fail if spilling is required.\n",
      "\u001b[33m(raylet)\u001b[0m [2023-12-28 16:58:09,789 E 316406 316435] (raylet) file_system_monitor.cc:111: /tmp/ray/session_2023-12-28_15-05-32_192665_313140 is over 95% full, available space: 72350629888; capacity: 2161779998720. Object creation will fail if spilling is required.\n"
     ]
    },
    {
     "name": "stdout",
     "output_type": "stream",
     "text": [
      "\u001b[36m(RayTrainWorker pid=353466)\u001b[0m {'loss': 2.2406, 'learning_rate': 0.015, 'epoch': 0.25}\n"
     ]
    },
    {
     "data": {
      "application/vnd.jupyter.widget-view+json": {
       "model_id": "",
       "version_major": 2,
       "version_minor": 0
      },
      "text/plain": [
       "(pid=353523) Running 0:   0%|          | 0/1 [00:00<?, ?it/s]"
      ]
     },
     "metadata": {},
     "output_type": "display_data"
    },
    {
     "name": "stderr",
     "output_type": "stream",
     "text": [
      "\u001b[36m(SplitCoordinator pid=353523)\u001b[0m Executing DAG InputDataBuffer[Input] -> OutputSplitter[split(1, equal=True)]\n",
      "\u001b[36m(SplitCoordinator pid=353523)\u001b[0m Execution config: ExecutionOptions(resource_limits=ExecutionResources(cpu=None, gpu=None, object_store_memory=None), exclude_resources=ExecutionResources(cpu=1.0, gpu=1.0, object_store_memory=0.0), locality_with_output=['9426e9cf25a53c01389f879d75db2e4bd3751fd3a3bd13251baf11f1'], preserve_order=False, actor_locality_enabled=True, verbose_progress=False)\n",
      "\u001b[36m(SplitCoordinator pid=353523)\u001b[0m Tip: For detailed progress reporting, run `ray.data.DataContext.get_current().execution_options.verbose_progress = True`\n",
      "\u001b[33m(raylet)\u001b[0m [2023-12-28 16:58:19,795 E 316406 316435] (raylet) file_system_monitor.cc:111: /tmp/ray/session_2023-12-28_15-05-32_192665_313140 is over 95% full, available space: 72350519296; capacity: 2161779998720. Object creation will fail if spilling is required.\n"
     ]
    },
    {
     "name": "stdout",
     "output_type": "stream",
     "text": [
      "\u001b[36m(RayTrainWorker pid=353466)\u001b[0m {'eval_loss': 1.1120679378509521, 'eval_matthews_correlation': 0.0, 'eval_runtime': 12.5505, 'eval_samples_per_second': 292.976, 'eval_steps_per_second': 18.326, 'epoch': 0.25}\n"
     ]
    },
    {
     "name": "stderr",
     "output_type": "stream",
     "text": [
      "2023-12-28 16:58:26,750\tINFO tune.py:1042 -- Total run time: 4634.05 seconds (4634.03 seconds for the tuning loop).\n",
      "\u001b[36m(RayTrainWorker pid=353466)\u001b[0m Checkpoint successfully created at: Checkpoint(filesystem=local, path=/home/itmo/ray_results/tune_transformers/TorchTrainer_87803_00003_3_learning_rate=0.0200_2023-12-28_15-41-12/checkpoint_000000)\n"
     ]
    },
    {
     "name": "stdout",
     "output_type": "stream",
     "text": [
      "\u001b[33m(raylet)\u001b[0m A worker died or was killed while executing a task by an unexpected system error. To troubleshoot the problem, check the logs for the dead worker. RayTask ID: ffffffffffffffffacec6e0764498d4f64fc634701000000 Worker ID: d197c2893207730880d74acc554cb5f0932630821ec4b948f95461d6 Node ID: 9426e9cf25a53c01389f879d75db2e4bd3751fd3a3bd13251baf11f1 Worker IP address: 192.168.0.2 Worker port: 34379 Worker PID: 353523 Worker exit type: SYSTEM_ERROR Worker exit detail: Worker exits unexpectedly by a signal. SystemExit is raised (sys.exit is called). Exit code: 1. The process receives a SIGTERM.\n"
     ]
    },
    {
     "name": "stderr",
     "output_type": "stream",
     "text": [
      "\u001b[33m(raylet)\u001b[0m [2023-12-28 16:58:29,802 E 316406 316435] (raylet) file_system_monitor.cc:111: /tmp/ray/session_2023-12-28_15-05-32_192665_313140 is over 95% full, available space: 68350930944; capacity: 2161779998720. Object creation will fail if spilling is required.\n",
      "\u001b[33m(raylet)\u001b[0m [2023-12-28 16:58:39,808 E 316406 316435] (raylet) file_system_monitor.cc:111: /tmp/ray/session_2023-12-28_15-05-32_192665_313140 is over 95% full, available space: 68350738432; capacity: 2161779998720. Object creation will fail if spilling is required.\n",
      "\u001b[33m(raylet)\u001b[0m [2023-12-28 16:58:49,815 E 316406 316435] (raylet) file_system_monitor.cc:111: /tmp/ray/session_2023-12-28_15-05-32_192665_313140 is over 95% full, available space: 68350889984; capacity: 2161779998720. Object creation will fail if spilling is required.\n",
      "\u001b[33m(raylet)\u001b[0m [2023-12-28 16:58:59,821 E 316406 316435] (raylet) file_system_monitor.cc:111: /tmp/ray/session_2023-12-28_15-05-32_192665_313140 is over 95% full, available space: 68350881792; capacity: 2161779998720. Object creation will fail if spilling is required.\n",
      "\u001b[33m(raylet)\u001b[0m [2023-12-28 16:59:09,827 E 316406 316435] (raylet) file_system_monitor.cc:111: /tmp/ray/session_2023-12-28_15-05-32_192665_313140 is over 95% full, available space: 68350877696; capacity: 2161779998720. Object creation will fail if spilling is required.\n",
      "\u001b[33m(raylet)\u001b[0m [2023-12-28 16:59:19,833 E 316406 316435] (raylet) file_system_monitor.cc:111: /tmp/ray/session_2023-12-28_15-05-32_192665_313140 is over 95% full, available space: 68350873600; capacity: 2161779998720. Object creation will fail if spilling is required.\n",
      "\u001b[33m(raylet)\u001b[0m [2023-12-28 16:59:29,840 E 316406 316435] (raylet) file_system_monitor.cc:111: /tmp/ray/session_2023-12-28_15-05-32_192665_313140 is over 95% full, available space: 68350869504; capacity: 2161779998720. Object creation will fail if spilling is required.\n",
      "\u001b[33m(raylet)\u001b[0m [2023-12-28 16:59:39,846 E 316406 316435] (raylet) file_system_monitor.cc:111: /tmp/ray/session_2023-12-28_15-05-32_192665_313140 is over 95% full, available space: 68350705664; capacity: 2161779998720. Object creation will fail if spilling is required.\n",
      "\u001b[33m(raylet)\u001b[0m [2023-12-28 16:59:49,852 E 316406 316435] (raylet) file_system_monitor.cc:111: /tmp/ray/session_2023-12-28_15-05-32_192665_313140 is over 95% full, available space: 68350705664; capacity: 2161779998720. Object creation will fail if spilling is required.\n",
      "\u001b[33m(raylet)\u001b[0m [2023-12-28 16:59:59,857 E 316406 316435] (raylet) file_system_monitor.cc:111: /tmp/ray/session_2023-12-28_15-05-32_192665_313140 is over 95% full, available space: 68350693376; capacity: 2161779998720. Object creation will fail if spilling is required.\n",
      "\u001b[33m(raylet)\u001b[0m [2023-12-28 17:00:09,863 E 316406 316435] (raylet) file_system_monitor.cc:111: /tmp/ray/session_2023-12-28_15-05-32_192665_313140 is over 95% full, available space: 68350685184; capacity: 2161779998720. Object creation will fail if spilling is required.\n",
      "\u001b[33m(raylet)\u001b[0m [2023-12-28 17:00:19,870 E 316406 316435] (raylet) file_system_monitor.cc:111: /tmp/ray/session_2023-12-28_15-05-32_192665_313140 is over 95% full, available space: 68350681088; capacity: 2161779998720. Object creation will fail if spilling is required.\n",
      "\u001b[33m(raylet)\u001b[0m [2023-12-28 17:00:29,875 E 316406 316435] (raylet) file_system_monitor.cc:111: /tmp/ray/session_2023-12-28_15-05-32_192665_313140 is over 95% full, available space: 68350672896; capacity: 2161779998720. Object creation will fail if spilling is required.\n",
      "\u001b[33m(raylet)\u001b[0m [2023-12-28 17:00:39,881 E 316406 316435] (raylet) file_system_monitor.cc:111: /tmp/ray/session_2023-12-28_15-05-32_192665_313140 is over 95% full, available space: 68350496768; capacity: 2161779998720. Object creation will fail if spilling is required.\n",
      "\u001b[33m(raylet)\u001b[0m [2023-12-28 17:00:49,888 E 316406 316435] (raylet) file_system_monitor.cc:111: /tmp/ray/session_2023-12-28_15-05-32_192665_313140 is over 95% full, available space: 68350488576; capacity: 2161779998720. Object creation will fail if spilling is required.\n",
      "\u001b[33m(raylet)\u001b[0m [2023-12-28 17:00:59,893 E 316406 316435] (raylet) file_system_monitor.cc:111: /tmp/ray/session_2023-12-28_15-05-32_192665_313140 is over 95% full, available space: 68350480384; capacity: 2161779998720. Object creation will fail if spilling is required.\n",
      "\u001b[33m(raylet)\u001b[0m [2023-12-28 17:01:09,899 E 316406 316435] (raylet) file_system_monitor.cc:111: /tmp/ray/session_2023-12-28_15-05-32_192665_313140 is over 95% full, available space: 68350476288; capacity: 2161779998720. Object creation will fail if spilling is required.\n",
      "\u001b[33m(raylet)\u001b[0m [2023-12-28 17:01:19,905 E 316406 316435] (raylet) file_system_monitor.cc:111: /tmp/ray/session_2023-12-28_15-05-32_192665_313140 is over 95% full, available space: 68350468096; capacity: 2161779998720. Object creation will fail if spilling is required.\n",
      "\u001b[33m(raylet)\u001b[0m [2023-12-28 17:01:29,910 E 316406 316435] (raylet) file_system_monitor.cc:111: /tmp/ray/session_2023-12-28_15-05-32_192665_313140 is over 95% full, available space: 68350459904; capacity: 2161779998720. Object creation will fail if spilling is required.\n",
      "\u001b[33m(raylet)\u001b[0m [2023-12-28 17:01:39,916 E 316406 316435] (raylet) file_system_monitor.cc:111: /tmp/ray/session_2023-12-28_15-05-32_192665_313140 is over 95% full, available space: 68350291968; capacity: 2161779998720. Object creation will fail if spilling is required.\n",
      "\u001b[33m(raylet)\u001b[0m [2023-12-28 17:01:49,922 E 316406 316435] (raylet) file_system_monitor.cc:111: /tmp/ray/session_2023-12-28_15-05-32_192665_313140 is over 95% full, available space: 68350275584; capacity: 2161779998720. Object creation will fail if spilling is required.\n",
      "\u001b[33m(raylet)\u001b[0m [2023-12-28 17:01:59,927 E 316406 316435] (raylet) file_system_monitor.cc:111: /tmp/ray/session_2023-12-28_15-05-32_192665_313140 is over 95% full, available space: 68350271488; capacity: 2161779998720. Object creation will fail if spilling is required.\n",
      "\u001b[33m(raylet)\u001b[0m [2023-12-28 17:02:09,933 E 316406 316435] (raylet) file_system_monitor.cc:111: /tmp/ray/session_2023-12-28_15-05-32_192665_313140 is over 95% full, available space: 68350267392; capacity: 2161779998720. Object creation will fail if spilling is required.\n",
      "\u001b[33m(raylet)\u001b[0m [2023-12-28 17:02:19,939 E 316406 316435] (raylet) file_system_monitor.cc:111: /tmp/ray/session_2023-12-28_15-05-32_192665_313140 is over 95% full, available space: 68350259200; capacity: 2161779998720. Object creation will fail if spilling is required.\n",
      "\u001b[33m(raylet)\u001b[0m [2023-12-28 17:02:29,944 E 316406 316435] (raylet) file_system_monitor.cc:111: /tmp/ray/session_2023-12-28_15-05-32_192665_313140 is over 95% full, available space: 68350255104; capacity: 2161779998720. Object creation will fail if spilling is required.\n",
      "\u001b[33m(raylet)\u001b[0m [2023-12-28 17:02:39,950 E 316406 316435] (raylet) file_system_monitor.cc:111: /tmp/ray/session_2023-12-28_15-05-32_192665_313140 is over 95% full, available space: 68350083072; capacity: 2161779998720. Object creation will fail if spilling is required.\n",
      "\u001b[33m(raylet)\u001b[0m [2023-12-28 17:02:49,955 E 316406 316435] (raylet) file_system_monitor.cc:111: /tmp/ray/session_2023-12-28_15-05-32_192665_313140 is over 95% full, available space: 68350078976; capacity: 2161779998720. Object creation will fail if spilling is required.\n",
      "\u001b[33m(raylet)\u001b[0m [2023-12-28 17:02:59,961 E 316406 316435] (raylet) file_system_monitor.cc:111: /tmp/ray/session_2023-12-28_15-05-32_192665_313140 is over 95% full, available space: 68350066688; capacity: 2161779998720. Object creation will fail if spilling is required.\n",
      "\u001b[33m(raylet)\u001b[0m [2023-12-28 17:03:09,967 E 316406 316435] (raylet) file_system_monitor.cc:111: /tmp/ray/session_2023-12-28_15-05-32_192665_313140 is over 95% full, available space: 68350062592; capacity: 2161779998720. Object creation will fail if spilling is required.\n",
      "\u001b[33m(raylet)\u001b[0m [2023-12-28 17:03:19,972 E 316406 316435] (raylet) file_system_monitor.cc:111: /tmp/ray/session_2023-12-28_15-05-32_192665_313140 is over 95% full, available space: 68350050304; capacity: 2161779998720. Object creation will fail if spilling is required.\n",
      "\u001b[33m(raylet)\u001b[0m [2023-12-28 17:03:29,978 E 316406 316435] (raylet) file_system_monitor.cc:111: /tmp/ray/session_2023-12-28_15-05-32_192665_313140 is over 95% full, available space: 68350046208; capacity: 2161779998720. Object creation will fail if spilling is required.\n",
      "\u001b[33m(raylet)\u001b[0m [2023-12-28 17:03:39,984 E 316406 316435] (raylet) file_system_monitor.cc:111: /tmp/ray/session_2023-12-28_15-05-32_192665_313140 is over 95% full, available space: 68349865984; capacity: 2161779998720. Object creation will fail if spilling is required.\n",
      "\u001b[33m(raylet)\u001b[0m [2023-12-28 17:03:49,992 E 316406 316435] (raylet) file_system_monitor.cc:111: /tmp/ray/session_2023-12-28_15-05-32_192665_313140 is over 95% full, available space: 68349865984; capacity: 2161779998720. Object creation will fail if spilling is required.\n",
      "\u001b[33m(raylet)\u001b[0m [2023-12-28 17:04:00,000 E 316406 316435] (raylet) file_system_monitor.cc:111: /tmp/ray/session_2023-12-28_15-05-32_192665_313140 is over 95% full, available space: 68349849600; capacity: 2161779998720. Object creation will fail if spilling is required.\n",
      "\u001b[33m(raylet)\u001b[0m [2023-12-28 17:04:10,008 E 316406 316435] (raylet) file_system_monitor.cc:111: /tmp/ray/session_2023-12-28_15-05-32_192665_313140 is over 95% full, available space: 68349849600; capacity: 2161779998720. Object creation will fail if spilling is required.\n",
      "\u001b[33m(raylet)\u001b[0m [2023-12-28 17:04:20,014 E 316406 316435] (raylet) file_system_monitor.cc:111: /tmp/ray/session_2023-12-28_15-05-32_192665_313140 is over 95% full, available space: 68349845504; capacity: 2161779998720. Object creation will fail if spilling is required.\n",
      "\u001b[33m(raylet)\u001b[0m [2023-12-28 17:04:30,020 E 316406 316435] (raylet) file_system_monitor.cc:111: /tmp/ray/session_2023-12-28_15-05-32_192665_313140 is over 95% full, available space: 68349837312; capacity: 2161779998720. Object creation will fail if spilling is required.\n",
      "\u001b[33m(raylet)\u001b[0m [2023-12-28 17:04:40,026 E 316406 316435] (raylet) file_system_monitor.cc:111: /tmp/ray/session_2023-12-28_15-05-32_192665_313140 is over 95% full, available space: 68349669376; capacity: 2161779998720. Object creation will fail if spilling is required.\n",
      "\u001b[33m(raylet)\u001b[0m [2023-12-28 17:04:50,031 E 316406 316435] (raylet) file_system_monitor.cc:111: /tmp/ray/session_2023-12-28_15-05-32_192665_313140 is over 95% full, available space: 68349665280; capacity: 2161779998720. Object creation will fail if spilling is required.\n",
      "\u001b[33m(raylet)\u001b[0m [2023-12-28 17:05:00,037 E 316406 316435] (raylet) file_system_monitor.cc:111: /tmp/ray/session_2023-12-28_15-05-32_192665_313140 is over 95% full, available space: 68349652992; capacity: 2161779998720. Object creation will fail if spilling is required.\n",
      "\u001b[33m(raylet)\u001b[0m [2023-12-28 17:05:10,042 E 316406 316435] (raylet) file_system_monitor.cc:111: /tmp/ray/session_2023-12-28_15-05-32_192665_313140 is over 95% full, available space: 68349648896; capacity: 2161779998720. Object creation will fail if spilling is required.\n",
      "\u001b[33m(raylet)\u001b[0m [2023-12-28 17:05:20,048 E 316406 316435] (raylet) file_system_monitor.cc:111: /tmp/ray/session_2023-12-28_15-05-32_192665_313140 is over 95% full, available space: 68349644800; capacity: 2161779998720. Object creation will fail if spilling is required.\n",
      "\u001b[33m(raylet)\u001b[0m [2023-12-28 17:05:30,054 E 316406 316435] (raylet) file_system_monitor.cc:111: /tmp/ray/session_2023-12-28_15-05-32_192665_313140 is over 95% full, available space: 68349636608; capacity: 2161779998720. Object creation will fail if spilling is required.\n",
      "\u001b[33m(raylet)\u001b[0m [2023-12-28 17:05:40,059 E 316406 316435] (raylet) file_system_monitor.cc:111: /tmp/ray/session_2023-12-28_15-05-32_192665_313140 is over 95% full, available space: 68349460480; capacity: 2161779998720. Object creation will fail if spilling is required.\n",
      "\u001b[33m(raylet)\u001b[0m [2023-12-28 17:05:50,065 E 316406 316435] (raylet) file_system_monitor.cc:111: /tmp/ray/session_2023-12-28_15-05-32_192665_313140 is over 95% full, available space: 68349456384; capacity: 2161779998720. Object creation will fail if spilling is required.\n",
      "\u001b[33m(raylet)\u001b[0m [2023-12-28 17:06:00,071 E 316406 316435] (raylet) file_system_monitor.cc:111: /tmp/ray/session_2023-12-28_15-05-32_192665_313140 is over 95% full, available space: 68349448192; capacity: 2161779998720. Object creation will fail if spilling is required.\n",
      "\u001b[33m(raylet)\u001b[0m [2023-12-28 17:06:10,077 E 316406 316435] (raylet) file_system_monitor.cc:111: /tmp/ray/session_2023-12-28_15-05-32_192665_313140 is over 95% full, available space: 68349448192; capacity: 2161779998720. Object creation will fail if spilling is required.\n",
      "\u001b[33m(raylet)\u001b[0m [2023-12-28 17:06:20,083 E 316406 316435] (raylet) file_system_monitor.cc:111: /tmp/ray/session_2023-12-28_15-05-32_192665_313140 is over 95% full, available space: 68349440000; capacity: 2161779998720. Object creation will fail if spilling is required.\n",
      "\u001b[33m(raylet)\u001b[0m [2023-12-28 17:06:30,088 E 316406 316435] (raylet) file_system_monitor.cc:111: /tmp/ray/session_2023-12-28_15-05-32_192665_313140 is over 95% full, available space: 68349427712; capacity: 2161779998720. Object creation will fail if spilling is required.\n",
      "\u001b[33m(raylet)\u001b[0m [2023-12-28 17:06:40,094 E 316406 316435] (raylet) file_system_monitor.cc:111: /tmp/ray/session_2023-12-28_15-05-32_192665_313140 is over 95% full, available space: 68349239296; capacity: 2161779998720. Object creation will fail if spilling is required.\n",
      "\u001b[33m(raylet)\u001b[0m [2023-12-28 17:06:50,100 E 316406 316435] (raylet) file_system_monitor.cc:111: /tmp/ray/session_2023-12-28_15-05-32_192665_313140 is over 95% full, available space: 68349239296; capacity: 2161779998720. Object creation will fail if spilling is required.\n",
      "\u001b[33m(raylet)\u001b[0m [2023-12-28 17:07:00,105 E 316406 316435] (raylet) file_system_monitor.cc:111: /tmp/ray/session_2023-12-28_15-05-32_192665_313140 is over 95% full, available space: 68349231104; capacity: 2161779998720. Object creation will fail if spilling is required.\n",
      "\u001b[33m(raylet)\u001b[0m [2023-12-28 17:07:10,111 E 316406 316435] (raylet) file_system_monitor.cc:111: /tmp/ray/session_2023-12-28_15-05-32_192665_313140 is over 95% full, available space: 68349222912; capacity: 2161779998720. Object creation will fail if spilling is required.\n",
      "\u001b[33m(raylet)\u001b[0m [2023-12-28 17:07:20,117 E 316406 316435] (raylet) file_system_monitor.cc:111: /tmp/ray/session_2023-12-28_15-05-32_192665_313140 is over 95% full, available space: 68349222912; capacity: 2161779998720. Object creation will fail if spilling is required.\n",
      "\u001b[33m(raylet)\u001b[0m [2023-12-28 17:07:30,122 E 316406 316435] (raylet) file_system_monitor.cc:111: /tmp/ray/session_2023-12-28_15-05-32_192665_313140 is over 95% full, available space: 68349222912; capacity: 2161779998720. Object creation will fail if spilling is required.\n",
      "\u001b[33m(raylet)\u001b[0m [2023-12-28 17:07:40,127 E 316406 316435] (raylet) file_system_monitor.cc:111: /tmp/ray/session_2023-12-28_15-05-32_192665_313140 is over 95% full, available space: 68349038592; capacity: 2161779998720. Object creation will fail if spilling is required.\n",
      "\u001b[33m(raylet)\u001b[0m [2023-12-28 17:07:50,133 E 316406 316435] (raylet) file_system_monitor.cc:111: /tmp/ray/session_2023-12-28_15-05-32_192665_313140 is over 95% full, available space: 68349038592; capacity: 2161779998720. Object creation will fail if spilling is required.\n",
      "\u001b[33m(raylet)\u001b[0m [2023-12-28 17:08:00,138 E 316406 316435] (raylet) file_system_monitor.cc:111: /tmp/ray/session_2023-12-28_15-05-32_192665_313140 is over 95% full, available space: 68349018112; capacity: 2161779998720. Object creation will fail if spilling is required.\n",
      "\u001b[33m(raylet)\u001b[0m [2023-12-28 17:08:10,144 E 316406 316435] (raylet) file_system_monitor.cc:111: /tmp/ray/session_2023-12-28_15-05-32_192665_313140 is over 95% full, available space: 68349014016; capacity: 2161779998720. Object creation will fail if spilling is required.\n",
      "\u001b[33m(raylet)\u001b[0m [2023-12-28 17:08:20,149 E 316406 316435] (raylet) file_system_monitor.cc:111: /tmp/ray/session_2023-12-28_15-05-32_192665_313140 is over 95% full, available space: 68349014016; capacity: 2161779998720. Object creation will fail if spilling is required.\n",
      "\u001b[33m(raylet)\u001b[0m [2023-12-28 17:08:30,155 E 316406 316435] (raylet) file_system_monitor.cc:111: /tmp/ray/session_2023-12-28_15-05-32_192665_313140 is over 95% full, available space: 68349009920; capacity: 2161779998720. Object creation will fail if spilling is required.\n",
      "\u001b[33m(raylet)\u001b[0m [2023-12-28 17:08:40,160 E 316406 316435] (raylet) file_system_monitor.cc:111: /tmp/ray/session_2023-12-28_15-05-32_192665_313140 is over 95% full, available space: 68348846080; capacity: 2161779998720. Object creation will fail if spilling is required.\n",
      "\u001b[33m(raylet)\u001b[0m [2023-12-28 17:08:50,165 E 316406 316435] (raylet) file_system_monitor.cc:111: /tmp/ray/session_2023-12-28_15-05-32_192665_313140 is over 95% full, available space: 68348841984; capacity: 2161779998720. Object creation will fail if spilling is required.\n",
      "\u001b[33m(raylet)\u001b[0m [2023-12-28 17:09:00,171 E 316406 316435] (raylet) file_system_monitor.cc:111: /tmp/ray/session_2023-12-28_15-05-32_192665_313140 is over 95% full, available space: 68348825600; capacity: 2161779998720. Object creation will fail if spilling is required.\n",
      "\u001b[33m(raylet)\u001b[0m [2023-12-28 17:09:10,177 E 316406 316435] (raylet) file_system_monitor.cc:111: /tmp/ray/session_2023-12-28_15-05-32_192665_313140 is over 95% full, available space: 68348821504; capacity: 2161779998720. Object creation will fail if spilling is required.\n",
      "\u001b[33m(raylet)\u001b[0m [2023-12-28 17:09:20,183 E 316406 316435] (raylet) file_system_monitor.cc:111: /tmp/ray/session_2023-12-28_15-05-32_192665_313140 is over 95% full, available space: 68348813312; capacity: 2161779998720. Object creation will fail if spilling is required.\n",
      "\u001b[33m(raylet)\u001b[0m [2023-12-28 17:09:30,188 E 316406 316435] (raylet) file_system_monitor.cc:111: /tmp/ray/session_2023-12-28_15-05-32_192665_313140 is over 95% full, available space: 68348805120; capacity: 2161779998720. Object creation will fail if spilling is required.\n",
      "\u001b[33m(raylet)\u001b[0m [2023-12-28 17:09:40,193 E 316406 316435] (raylet) file_system_monitor.cc:111: /tmp/ray/session_2023-12-28_15-05-32_192665_313140 is over 95% full, available space: 68348628992; capacity: 2161779998720. Object creation will fail if spilling is required.\n",
      "\u001b[33m(raylet)\u001b[0m [2023-12-28 17:09:50,198 E 316406 316435] (raylet) file_system_monitor.cc:111: /tmp/ray/session_2023-12-28_15-05-32_192665_313140 is over 95% full, available space: 68348616704; capacity: 2161779998720. Object creation will fail if spilling is required.\n",
      "\u001b[33m(raylet)\u001b[0m [2023-12-28 17:10:00,203 E 316406 316435] (raylet) file_system_monitor.cc:111: /tmp/ray/session_2023-12-28_15-05-32_192665_313140 is over 95% full, available space: 68348616704; capacity: 2161779998720. Object creation will fail if spilling is required.\n",
      "\u001b[33m(raylet)\u001b[0m [2023-12-28 17:10:10,210 E 316406 316435] (raylet) file_system_monitor.cc:111: /tmp/ray/session_2023-12-28_15-05-32_192665_313140 is over 95% full, available space: 68348616704; capacity: 2161779998720. Object creation will fail if spilling is required.\n",
      "\u001b[33m(raylet)\u001b[0m [2023-12-28 17:10:20,215 E 316406 316435] (raylet) file_system_monitor.cc:111: /tmp/ray/session_2023-12-28_15-05-32_192665_313140 is over 95% full, available space: 68348608512; capacity: 2161779998720. Object creation will fail if spilling is required.\n",
      "\u001b[33m(raylet)\u001b[0m [2023-12-28 17:10:30,221 E 316406 316435] (raylet) file_system_monitor.cc:111: /tmp/ray/session_2023-12-28_15-05-32_192665_313140 is over 95% full, available space: 68348604416; capacity: 2161779998720. Object creation will fail if spilling is required.\n",
      "\u001b[33m(raylet)\u001b[0m [2023-12-28 17:10:40,227 E 316406 316435] (raylet) file_system_monitor.cc:111: /tmp/ray/session_2023-12-28_15-05-32_192665_313140 is over 95% full, available space: 68348436480; capacity: 2161779998720. Object creation will fail if spilling is required.\n",
      "\u001b[33m(raylet)\u001b[0m [2023-12-28 17:10:50,233 E 316406 316435] (raylet) file_system_monitor.cc:111: /tmp/ray/session_2023-12-28_15-05-32_192665_313140 is over 95% full, available space: 68348432384; capacity: 2161779998720. Object creation will fail if spilling is required.\n",
      "\u001b[33m(raylet)\u001b[0m [2023-12-28 17:11:00,238 E 316406 316435] (raylet) file_system_monitor.cc:111: /tmp/ray/session_2023-12-28_15-05-32_192665_313140 is over 95% full, available space: 68348420096; capacity: 2161779998720. Object creation will fail if spilling is required.\n",
      "\u001b[33m(raylet)\u001b[0m [2023-12-28 17:11:10,244 E 316406 316435] (raylet) file_system_monitor.cc:111: /tmp/ray/session_2023-12-28_15-05-32_192665_313140 is over 95% full, available space: 68348416000; capacity: 2161779998720. Object creation will fail if spilling is required.\n",
      "\u001b[33m(raylet)\u001b[0m [2023-12-28 17:11:20,249 E 316406 316435] (raylet) file_system_monitor.cc:111: /tmp/ray/session_2023-12-28_15-05-32_192665_313140 is over 95% full, available space: 68348411904; capacity: 2161779998720. Object creation will fail if spilling is required.\n",
      "\u001b[33m(raylet)\u001b[0m [2023-12-28 17:11:30,256 E 316406 316435] (raylet) file_system_monitor.cc:111: /tmp/ray/session_2023-12-28_15-05-32_192665_313140 is over 95% full, available space: 68348411904; capacity: 2161779998720. Object creation will fail if spilling is required.\n",
      "\u001b[33m(raylet)\u001b[0m [2023-12-28 17:11:40,262 E 316406 316435] (raylet) file_system_monitor.cc:111: /tmp/ray/session_2023-12-28_15-05-32_192665_313140 is over 95% full, available space: 68348219392; capacity: 2161779998720. Object creation will fail if spilling is required.\n",
      "\u001b[33m(raylet)\u001b[0m [2023-12-28 17:11:50,268 E 316406 316435] (raylet) file_system_monitor.cc:111: /tmp/ray/session_2023-12-28_15-05-32_192665_313140 is over 95% full, available space: 68348211200; capacity: 2161779998720. Object creation will fail if spilling is required.\n"
     ]
    }
   ],
   "source": [
    "tune_results = tuner.fit()\n"
   ]
  },
  {
   "cell_type": "code",
   "execution_count": 107,
   "id": "15e1df83-b00a-4f0a-8f01-6070c46d71bd",
   "metadata": {},
   "outputs": [],
   "source": [
    "path = tune_results[0].checkpoint.path + \"/checkpoint\"\n",
    "model = AutoModelForSequenceClassification.from_pretrained(path, num_labels=3).cuda()"
   ]
  },
  {
   "cell_type": "code",
   "execution_count": 108,
   "id": "7ebae5ec-5d3b-43ce-b390-9dc7e58eb6ab",
   "metadata": {},
   "outputs": [
    {
     "name": "stderr",
     "output_type": "stream",
     "text": [
      "  9%|███████████▊                                                                                                                          | 325/3677 [00:02<00:27, 121.57it/s]\u001b[33m(raylet)\u001b[0m [2023-12-28 17:32:31,083 E 316406 316435] (raylet) file_system_monitor.cc:111: /tmp/ray/session_2023-12-28_15-05-32_192665_313140 is over 95% full, available space: 68342657024; capacity: 2161779998720. Object creation will fail if spilling is required.\n",
      " 42%|███████████████████████████████████████████████████████▊                                                                             | 1542/3677 [00:12<00:17, 120.91it/s]\u001b[33m(raylet)\u001b[0m [2023-12-28 17:32:41,107 E 316406 316435] (raylet) file_system_monitor.cc:111: /tmp/ray/session_2023-12-28_15-05-32_192665_313140 is over 95% full, available space: 68342484992; capacity: 2161779998720. Object creation will fail if spilling is required.\n",
      " 75%|███████████████████████████████████████████████████████████████████████████████████████████████████▎                                 | 2746/3677 [00:22<00:07, 123.40it/s]\u001b[33m(raylet)\u001b[0m [2023-12-28 17:32:51,114 E 316406 316435] (raylet) file_system_monitor.cc:111: /tmp/ray/session_2023-12-28_15-05-32_192665_313140 is over 95% full, available space: 68342476800; capacity: 2161779998720. Object creation will fail if spilling is required.\n",
      "100%|█████████████████████████████████████████████████████████████████████████████████████████████████████████████████████████████████████| 3677/3677 [00:30<00:00, 121.73it/s]\n",
      "\u001b[33m(raylet)\u001b[0m [2023-12-28 17:33:01,120 E 316406 316435] (raylet) file_system_monitor.cc:111: /tmp/ray/session_2023-12-28_15-05-32_192665_313140 is over 95% full, available space: 68342476800; capacity: 2161779998720. Object creation will fail if spilling is required.\n"
     ]
    }
   ],
   "source": [
    "def softmax(x):\n",
    "    \"\"\"Compute softmax values for each sets of scores in x.\"\"\"\n",
    "    e_x = np.exp(x - np.max(x))\n",
    "    return e_x / e_x.sum(axis=0) # only difference\n",
    "    \n",
    "y_pred = []\n",
    "y_true = []\n",
    "for example in tqdm(test_dataset):\n",
    "    with torch.no_grad():\n",
    "        inputs = tokenizer(example['text'], return_tensors=\"pt\")\n",
    "        logits = model(input_ids=inputs['input_ids'].cuda()[:,:512], \n",
    "                      attention_mask= inputs['attention_mask'].cuda()[:,:512]).logits\n",
    "        y_true.append(example['label'])\n",
    "        y_pred.append(softmax(logits.cpu().numpy()[0]))"
   ]
  },
  {
   "cell_type": "code",
   "execution_count": 110,
   "id": "5a8acdea-0921-4a01-87a6-6eecaeceb20a",
   "metadata": {},
   "outputs": [
    {
     "name": "stderr",
     "output_type": "stream",
     "text": [
      "/home/itmo/miniconda3/envs/automl/lib/python3.9/site-packages/sklearn/metrics/_classification.py:2922: UserWarning: The y_pred values do not sum to one. Starting from 1.5 thiswill result in an error.\n",
      "  warnings.warn(\n"
     ]
    },
    {
     "data": {
      "text/plain": [
       "0.864925101959551"
      ]
     },
     "execution_count": 110,
     "metadata": {},
     "output_type": "execute_result"
    },
    {
     "name": "stderr",
     "output_type": "stream",
     "text": [
      "\u001b[33m(raylet)\u001b[0m [2023-12-28 18:14:32,826 E 316406 316435] (raylet) file_system_monitor.cc:111: /tmp/ray/session_2023-12-28_15-05-32_192665_313140 is over 95% full, available space: 65016422400; capacity: 2161779998720. Object creation will fail if spilling is required.\n",
      "\u001b[33m(raylet)\u001b[0m [2023-12-28 18:14:42,831 E 316406 316435] (raylet) file_system_monitor.cc:111: /tmp/ray/session_2023-12-28_15-05-32_192665_313140 is over 95% full, available space: 65016270848; capacity: 2161779998720. Object creation will fail if spilling is required.\n",
      "\u001b[33m(raylet)\u001b[0m [2023-12-28 18:14:52,836 E 316406 316435] (raylet) file_system_monitor.cc:111: /tmp/ray/session_2023-12-28_15-05-32_192665_313140 is over 95% full, available space: 65016262656; capacity: 2161779998720. Object creation will fail if spilling is required.\n",
      "\u001b[33m(raylet)\u001b[0m [2023-12-28 18:15:02,842 E 316406 316435] (raylet) file_system_monitor.cc:111: /tmp/ray/session_2023-12-28_15-05-32_192665_313140 is over 95% full, available space: 65016258560; capacity: 2161779998720. Object creation will fail if spilling is required.\n",
      "\u001b[33m(raylet)\u001b[0m [2023-12-28 18:15:12,847 E 316406 316435] (raylet) file_system_monitor.cc:111: /tmp/ray/session_2023-12-28_15-05-32_192665_313140 is over 95% full, available space: 65016324096; capacity: 2161779998720. Object creation will fail if spilling is required.\n",
      "\u001b[33m(raylet)\u001b[0m [2023-12-28 18:15:22,853 E 316406 316435] (raylet) file_system_monitor.cc:111: /tmp/ray/session_2023-12-28_15-05-32_192665_313140 is over 95% full, available space: 65016320000; capacity: 2161779998720. Object creation will fail if spilling is required.\n",
      "\u001b[33m(raylet)\u001b[0m [2023-12-28 18:15:32,859 E 316406 316435] (raylet) file_system_monitor.cc:111: /tmp/ray/session_2023-12-28_15-05-32_192665_313140 is over 95% full, available space: 65016287232; capacity: 2161779998720. Object creation will fail if spilling is required.\n",
      "\u001b[33m(raylet)\u001b[0m [2023-12-28 18:15:42,866 E 316406 316435] (raylet) file_system_monitor.cc:111: /tmp/ray/session_2023-12-28_15-05-32_192665_313140 is over 95% full, available space: 65016135680; capacity: 2161779998720. Object creation will fail if spilling is required.\n",
      "\u001b[33m(raylet)\u001b[0m [2023-12-28 18:15:52,872 E 316406 316435] (raylet) file_system_monitor.cc:111: /tmp/ray/session_2023-12-28_15-05-32_192665_313140 is over 95% full, available space: 65016131584; capacity: 2161779998720. Object creation will fail if spilling is required.\n",
      "\u001b[33m(raylet)\u001b[0m [2023-12-28 18:16:02,880 E 316406 316435] (raylet) file_system_monitor.cc:111: /tmp/ray/session_2023-12-28_15-05-32_192665_313140 is over 95% full, available space: 65016123392; capacity: 2161779998720. Object creation will fail if spilling is required.\n",
      "\u001b[33m(raylet)\u001b[0m [2023-12-28 18:16:12,885 E 316406 316435] (raylet) file_system_monitor.cc:111: /tmp/ray/session_2023-12-28_15-05-32_192665_313140 is over 95% full, available space: 65016123392; capacity: 2161779998720. Object creation will fail if spilling is required.\n",
      "\u001b[33m(raylet)\u001b[0m [2023-12-28 18:16:22,904 E 316406 316435] (raylet) file_system_monitor.cc:111: /tmp/ray/session_2023-12-28_15-05-32_192665_313140 is over 95% full, available space: 65016111104; capacity: 2161779998720. Object creation will fail if spilling is required.\n",
      "\u001b[33m(raylet)\u001b[0m [2023-12-28 18:16:32,913 E 316406 316435] (raylet) file_system_monitor.cc:111: /tmp/ray/session_2023-12-28_15-05-32_192665_313140 is over 95% full, available space: 65016082432; capacity: 2161779998720. Object creation will fail if spilling is required.\n",
      "\u001b[33m(raylet)\u001b[0m [2023-12-28 18:16:42,919 E 316406 316435] (raylet) file_system_monitor.cc:111: /tmp/ray/session_2023-12-28_15-05-32_192665_313140 is over 95% full, available space: 65015930880; capacity: 2161779998720. Object creation will fail if spilling is required.\n",
      "\u001b[33m(raylet)\u001b[0m [2023-12-28 18:16:52,928 E 316406 316435] (raylet) file_system_monitor.cc:111: /tmp/ray/session_2023-12-28_15-05-32_192665_313140 is over 95% full, available space: 65015922688; capacity: 2161779998720. Object creation will fail if spilling is required.\n",
      "\u001b[33m(raylet)\u001b[0m [2023-12-28 18:17:02,933 E 316406 316435] (raylet) file_system_monitor.cc:111: /tmp/ray/session_2023-12-28_15-05-32_192665_313140 is over 95% full, available space: 65015914496; capacity: 2161779998720. Object creation will fail if spilling is required.\n",
      "\u001b[33m(raylet)\u001b[0m [2023-12-28 18:17:12,939 E 316406 316435] (raylet) file_system_monitor.cc:111: /tmp/ray/session_2023-12-28_15-05-32_192665_313140 is over 95% full, available space: 65015906304; capacity: 2161779998720. Object creation will fail if spilling is required.\n",
      "\u001b[33m(raylet)\u001b[0m [2023-12-28 18:17:22,944 E 316406 316435] (raylet) file_system_monitor.cc:111: /tmp/ray/session_2023-12-28_15-05-32_192665_313140 is over 95% full, available space: 65015902208; capacity: 2161779998720. Object creation will fail if spilling is required.\n",
      "\u001b[33m(raylet)\u001b[0m [2023-12-28 18:17:32,950 E 316406 316435] (raylet) file_system_monitor.cc:111: /tmp/ray/session_2023-12-28_15-05-32_192665_313140 is over 95% full, available space: 65015877632; capacity: 2161779998720. Object creation will fail if spilling is required.\n",
      "\u001b[33m(raylet)\u001b[0m [2023-12-28 18:17:42,956 E 316406 316435] (raylet) file_system_monitor.cc:111: /tmp/ray/session_2023-12-28_15-05-32_192665_313140 is over 95% full, available space: 65015721984; capacity: 2161779998720. Object creation will fail if spilling is required.\n",
      "\u001b[33m(raylet)\u001b[0m [2023-12-28 18:17:52,962 E 316406 316435] (raylet) file_system_monitor.cc:111: /tmp/ray/session_2023-12-28_15-05-32_192665_313140 is over 95% full, available space: 65015713792; capacity: 2161779998720. Object creation will fail if spilling is required.\n",
      "\u001b[33m(raylet)\u001b[0m [2023-12-28 18:18:02,967 E 316406 316435] (raylet) file_system_monitor.cc:111: /tmp/ray/session_2023-12-28_15-05-32_192665_313140 is over 95% full, available space: 65015713792; capacity: 2161779998720. Object creation will fail if spilling is required.\n",
      "\u001b[33m(raylet)\u001b[0m [2023-12-28 18:18:12,972 E 316406 316435] (raylet) file_system_monitor.cc:111: /tmp/ray/session_2023-12-28_15-05-32_192665_313140 is over 95% full, available space: 65015705600; capacity: 2161779998720. Object creation will fail if spilling is required.\n",
      "\u001b[33m(raylet)\u001b[0m [2023-12-28 18:18:22,977 E 316406 316435] (raylet) file_system_monitor.cc:111: /tmp/ray/session_2023-12-28_15-05-32_192665_313140 is over 95% full, available space: 65015705600; capacity: 2161779998720. Object creation will fail if spilling is required.\n",
      "\u001b[33m(raylet)\u001b[0m [2023-12-28 18:18:32,982 E 316406 316435] (raylet) file_system_monitor.cc:111: /tmp/ray/session_2023-12-28_15-05-32_192665_313140 is over 95% full, available space: 65015681024; capacity: 2161779998720. Object creation will fail if spilling is required.\n",
      "\u001b[33m(raylet)\u001b[0m [2023-12-28 18:18:42,988 E 316406 316435] (raylet) file_system_monitor.cc:111: /tmp/ray/session_2023-12-28_15-05-32_192665_313140 is over 95% full, available space: 65015508992; capacity: 2161779998720. Object creation will fail if spilling is required.\n",
      "\u001b[33m(raylet)\u001b[0m [2023-12-28 18:18:52,993 E 316406 316435] (raylet) file_system_monitor.cc:111: /tmp/ray/session_2023-12-28_15-05-32_192665_313140 is over 95% full, available space: 65015504896; capacity: 2161779998720. Object creation will fail if spilling is required.\n",
      "\u001b[33m(raylet)\u001b[0m [2023-12-28 18:19:02,999 E 316406 316435] (raylet) file_system_monitor.cc:111: /tmp/ray/session_2023-12-28_15-05-32_192665_313140 is over 95% full, available space: 65015500800; capacity: 2161779998720. Object creation will fail if spilling is required.\n"
     ]
    }
   ],
   "source": [
    "log_loss(y_true, y_pred)"
   ]
  },
  {
   "cell_type": "code",
   "execution_count": null,
   "id": "d61a7624-134f-458d-8fbf-855fce56ad49",
   "metadata": {},
   "outputs": [],
   "source": []
  },
  {
   "cell_type": "code",
   "execution_count": null,
   "id": "d383b448-6686-4c7a-a48a-a00246637002",
   "metadata": {},
   "outputs": [],
   "source": []
  },
  {
   "cell_type": "code",
   "execution_count": null,
   "id": "56333944-bb52-466f-a2b5-9ec2a8d3a59c",
   "metadata": {},
   "outputs": [],
   "source": []
  },
  {
   "cell_type": "code",
   "execution_count": null,
   "id": "8dc26d01-84bc-4408-849a-54de0b6a3d85",
   "metadata": {},
   "outputs": [],
   "source": []
  }
 ],
 "metadata": {
  "kernelspec": {
   "display_name": "Python 3 (ipykernel)",
   "language": "python",
   "name": "python3"
  },
  "language_info": {
   "codemirror_mode": {
    "name": "ipython",
    "version": 3
   },
   "file_extension": ".py",
   "mimetype": "text/x-python",
   "name": "python",
   "nbconvert_exporter": "python",
   "pygments_lexer": "ipython3",
   "version": "3.9.18"
  }
 },
 "nbformat": 4,
 "nbformat_minor": 5
}
